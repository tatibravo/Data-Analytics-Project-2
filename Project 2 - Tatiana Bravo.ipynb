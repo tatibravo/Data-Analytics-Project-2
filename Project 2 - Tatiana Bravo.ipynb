{
 "cells": [
  {
   "cell_type": "code",
   "execution_count": 7,
   "metadata": {},
   "outputs": [],
   "source": [
    "import pandas as pd\n",
    "import numpy as np\n",
    "from matplotlib import pyplot as plt\n",
    "import seaborn as sns\n",
    "from datetime import datetime\n",
    "import statsmodels.formula.api as smf\n",
    "\n",
    "%matplotlib inline"
   ]
  },
  {
   "cell_type": "code",
   "execution_count": 8,
   "metadata": {},
   "outputs": [
    {
     "data": {
      "text/html": [
       "<div>\n",
       "<style scoped>\n",
       "    .dataframe tbody tr th:only-of-type {\n",
       "        vertical-align: middle;\n",
       "    }\n",
       "\n",
       "    .dataframe tbody tr th {\n",
       "        vertical-align: top;\n",
       "    }\n",
       "\n",
       "    .dataframe thead th {\n",
       "        text-align: right;\n",
       "    }\n",
       "</style>\n",
       "<table border=\"1\" class=\"dataframe\">\n",
       "  <thead>\n",
       "    <tr style=\"text-align: right;\">\n",
       "      <th></th>\n",
       "      <th>Unnamed: 0</th>\n",
       "      <th>BATHRM</th>\n",
       "      <th>HF_BATHRM</th>\n",
       "      <th>HEAT</th>\n",
       "      <th>AC</th>\n",
       "      <th>NUM_UNITS</th>\n",
       "      <th>ROOMS</th>\n",
       "      <th>BEDRM</th>\n",
       "      <th>AYB</th>\n",
       "      <th>YR_RMDL</th>\n",
       "      <th>...</th>\n",
       "      <th>LONGITUDE</th>\n",
       "      <th>ASSESSMENT_NBHD</th>\n",
       "      <th>ASSESSMENT_SUBNBHD</th>\n",
       "      <th>CENSUS_TRACT</th>\n",
       "      <th>CENSUS_BLOCK</th>\n",
       "      <th>WARD</th>\n",
       "      <th>SQUARE</th>\n",
       "      <th>X</th>\n",
       "      <th>Y</th>\n",
       "      <th>QUADRANT</th>\n",
       "    </tr>\n",
       "  </thead>\n",
       "  <tbody>\n",
       "    <tr>\n",
       "      <th>0</th>\n",
       "      <td>0</td>\n",
       "      <td>4</td>\n",
       "      <td>0</td>\n",
       "      <td>Warm Cool</td>\n",
       "      <td>Y</td>\n",
       "      <td>2.0</td>\n",
       "      <td>8</td>\n",
       "      <td>4</td>\n",
       "      <td>1910.0</td>\n",
       "      <td>1988.0</td>\n",
       "      <td>...</td>\n",
       "      <td>-77.040832</td>\n",
       "      <td>Old City 2</td>\n",
       "      <td>040 D Old City 2</td>\n",
       "      <td>4201.0</td>\n",
       "      <td>004201 2006</td>\n",
       "      <td>Ward 2</td>\n",
       "      <td>152</td>\n",
       "      <td>-77.040429</td>\n",
       "      <td>38.914881</td>\n",
       "      <td>NW</td>\n",
       "    </tr>\n",
       "    <tr>\n",
       "      <th>1</th>\n",
       "      <td>1</td>\n",
       "      <td>3</td>\n",
       "      <td>1</td>\n",
       "      <td>Warm Cool</td>\n",
       "      <td>Y</td>\n",
       "      <td>2.0</td>\n",
       "      <td>11</td>\n",
       "      <td>5</td>\n",
       "      <td>1898.0</td>\n",
       "      <td>2007.0</td>\n",
       "      <td>...</td>\n",
       "      <td>-77.040764</td>\n",
       "      <td>Old City 2</td>\n",
       "      <td>040 D Old City 2</td>\n",
       "      <td>4201.0</td>\n",
       "      <td>004201 2006</td>\n",
       "      <td>Ward 2</td>\n",
       "      <td>152</td>\n",
       "      <td>-77.040429</td>\n",
       "      <td>38.914881</td>\n",
       "      <td>NW</td>\n",
       "    </tr>\n",
       "    <tr>\n",
       "      <th>2</th>\n",
       "      <td>2</td>\n",
       "      <td>3</td>\n",
       "      <td>1</td>\n",
       "      <td>Hot Water Rad</td>\n",
       "      <td>Y</td>\n",
       "      <td>2.0</td>\n",
       "      <td>9</td>\n",
       "      <td>5</td>\n",
       "      <td>1910.0</td>\n",
       "      <td>2009.0</td>\n",
       "      <td>...</td>\n",
       "      <td>-77.040678</td>\n",
       "      <td>Old City 2</td>\n",
       "      <td>040 D Old City 2</td>\n",
       "      <td>4201.0</td>\n",
       "      <td>004201 2006</td>\n",
       "      <td>Ward 2</td>\n",
       "      <td>152</td>\n",
       "      <td>-77.040429</td>\n",
       "      <td>38.914881</td>\n",
       "      <td>NW</td>\n",
       "    </tr>\n",
       "    <tr>\n",
       "      <th>3</th>\n",
       "      <td>3</td>\n",
       "      <td>3</td>\n",
       "      <td>1</td>\n",
       "      <td>Hot Water Rad</td>\n",
       "      <td>Y</td>\n",
       "      <td>2.0</td>\n",
       "      <td>8</td>\n",
       "      <td>5</td>\n",
       "      <td>1900.0</td>\n",
       "      <td>2003.0</td>\n",
       "      <td>...</td>\n",
       "      <td>-77.040629</td>\n",
       "      <td>Old City 2</td>\n",
       "      <td>040 D Old City 2</td>\n",
       "      <td>4201.0</td>\n",
       "      <td>004201 2006</td>\n",
       "      <td>Ward 2</td>\n",
       "      <td>152</td>\n",
       "      <td>-77.040429</td>\n",
       "      <td>38.914881</td>\n",
       "      <td>NW</td>\n",
       "    </tr>\n",
       "    <tr>\n",
       "      <th>4</th>\n",
       "      <td>4</td>\n",
       "      <td>2</td>\n",
       "      <td>1</td>\n",
       "      <td>Warm Cool</td>\n",
       "      <td>Y</td>\n",
       "      <td>1.0</td>\n",
       "      <td>11</td>\n",
       "      <td>3</td>\n",
       "      <td>1913.0</td>\n",
       "      <td>2012.0</td>\n",
       "      <td>...</td>\n",
       "      <td>-77.039361</td>\n",
       "      <td>Old City 2</td>\n",
       "      <td>040 D Old City 2</td>\n",
       "      <td>4201.0</td>\n",
       "      <td>004201 2006</td>\n",
       "      <td>Ward 2</td>\n",
       "      <td>152</td>\n",
       "      <td>-77.040429</td>\n",
       "      <td>38.914881</td>\n",
       "      <td>NW</td>\n",
       "    </tr>\n",
       "  </tbody>\n",
       "</table>\n",
       "<p>5 rows × 49 columns</p>\n",
       "</div>"
      ],
      "text/plain": [
       "   Unnamed: 0  BATHRM  HF_BATHRM           HEAT AC  NUM_UNITS  ROOMS  BEDRM  \\\n",
       "0           0       4          0      Warm Cool  Y        2.0      8      4   \n",
       "1           1       3          1      Warm Cool  Y        2.0     11      5   \n",
       "2           2       3          1  Hot Water Rad  Y        2.0      9      5   \n",
       "3           3       3          1  Hot Water Rad  Y        2.0      8      5   \n",
       "4           4       2          1      Warm Cool  Y        1.0     11      3   \n",
       "\n",
       "      AYB  YR_RMDL  ...  LONGITUDE  ASSESSMENT_NBHD ASSESSMENT_SUBNBHD  \\\n",
       "0  1910.0   1988.0  ... -77.040832       Old City 2   040 D Old City 2   \n",
       "1  1898.0   2007.0  ... -77.040764       Old City 2   040 D Old City 2   \n",
       "2  1910.0   2009.0  ... -77.040678       Old City 2   040 D Old City 2   \n",
       "3  1900.0   2003.0  ... -77.040629       Old City 2   040 D Old City 2   \n",
       "4  1913.0   2012.0  ... -77.039361       Old City 2   040 D Old City 2   \n",
       "\n",
       "   CENSUS_TRACT CENSUS_BLOCK    WARD  SQUARE          X          Y QUADRANT  \n",
       "0        4201.0  004201 2006  Ward 2     152 -77.040429  38.914881       NW  \n",
       "1        4201.0  004201 2006  Ward 2     152 -77.040429  38.914881       NW  \n",
       "2        4201.0  004201 2006  Ward 2     152 -77.040429  38.914881       NW  \n",
       "3        4201.0  004201 2006  Ward 2     152 -77.040429  38.914881       NW  \n",
       "4        4201.0  004201 2006  Ward 2     152 -77.040429  38.914881       NW  \n",
       "\n",
       "[5 rows x 49 columns]"
      ]
     },
     "execution_count": 8,
     "metadata": {},
     "output_type": "execute_result"
    }
   ],
   "source": [
    "DC_properties = pd.read_csv(\"datasets/DC_Properties.csv\")\n",
    "DC_properties.head()"
   ]
  },
  {
   "cell_type": "code",
   "execution_count": 9,
   "metadata": {},
   "outputs": [
    {
     "data": {
      "text/plain": [
       "(158957, 49)"
      ]
     },
     "execution_count": 9,
     "metadata": {},
     "output_type": "execute_result"
    }
   ],
   "source": [
    "DC_properties.shape"
   ]
  },
  {
   "cell_type": "code",
   "execution_count": 10,
   "metadata": {},
   "outputs": [],
   "source": [
    "DC_properties.drop(['STRUCT', 'STORIES', 'NUM_UNITS',\n",
    "                       'Unnamed: 0', 'SALE_NUM','QUALIFIED','BLDG_NUM',\n",
    "                       'STYLE', 'LATITUDE', 'LONGITUDE',\n",
    "                   'X', 'Y', 'WARD', 'SQUARE',\n",
    "                   'CENSUS_BLOCK', 'EXTWALL', 'ROOF', 'INTWALL',\n",
    "                    'CENSUS_TRACT', 'ASSESSMENT_NBHD', 'LIVING_GBA',\n",
    "                    'ASSESSMENT_SUBNBHD', 'GIS_LAST_MOD_DTTM',\n",
    "                   'HEAT', 'USECODE', 'LANDAREA', 'FULLADDRESS', 'CMPLX_NUM', 'NATIONALGRID'],\n",
    "                   axis=1, inplace = True)"
   ]
  },
  {
   "cell_type": "code",
   "execution_count": 11,
   "metadata": {},
   "outputs": [
    {
     "data": {
      "text/plain": [
       "Index(['BATHRM', 'HF_BATHRM', 'AC', 'ROOMS', 'BEDRM', 'AYB', 'YR_RMDL', 'EYB',\n",
       "       'SALEDATE', 'PRICE', 'GBA', 'GRADE', 'CNDTN', 'KITCHENS', 'FIREPLACES',\n",
       "       'SOURCE', 'CITY', 'STATE', 'ZIPCODE', 'QUADRANT'],\n",
       "      dtype='object')"
      ]
     },
     "execution_count": 11,
     "metadata": {},
     "output_type": "execute_result"
    }
   ],
   "source": [
    "DC_properties.columns"
   ]
  },
  {
   "cell_type": "code",
   "execution_count": 12,
   "metadata": {},
   "outputs": [
    {
     "data": {
      "text/html": [
       "<div>\n",
       "<style scoped>\n",
       "    .dataframe tbody tr th:only-of-type {\n",
       "        vertical-align: middle;\n",
       "    }\n",
       "\n",
       "    .dataframe tbody tr th {\n",
       "        vertical-align: top;\n",
       "    }\n",
       "\n",
       "    .dataframe thead th {\n",
       "        text-align: right;\n",
       "    }\n",
       "</style>\n",
       "<table border=\"1\" class=\"dataframe\">\n",
       "  <thead>\n",
       "    <tr style=\"text-align: right;\">\n",
       "      <th></th>\n",
       "      <th>BATHRM</th>\n",
       "      <th>HF_BATHRM</th>\n",
       "      <th>ROOMS</th>\n",
       "      <th>BEDRM</th>\n",
       "      <th>AYB</th>\n",
       "      <th>YR_RMDL</th>\n",
       "      <th>EYB</th>\n",
       "      <th>PRICE</th>\n",
       "      <th>GBA</th>\n",
       "      <th>KITCHENS</th>\n",
       "      <th>FIREPLACES</th>\n",
       "      <th>ZIPCODE</th>\n",
       "    </tr>\n",
       "  </thead>\n",
       "  <tbody>\n",
       "    <tr>\n",
       "      <th>count</th>\n",
       "      <td>158957.000000</td>\n",
       "      <td>158957.000000</td>\n",
       "      <td>158957.000000</td>\n",
       "      <td>158957.000000</td>\n",
       "      <td>158686.000000</td>\n",
       "      <td>80928.000000</td>\n",
       "      <td>158957.000000</td>\n",
       "      <td>9.821600e+04</td>\n",
       "      <td>106696.000000</td>\n",
       "      <td>106695.000000</td>\n",
       "      <td>158957.000000</td>\n",
       "      <td>158956.000000</td>\n",
       "    </tr>\n",
       "    <tr>\n",
       "      <th>mean</th>\n",
       "      <td>1.810678</td>\n",
       "      <td>0.458237</td>\n",
       "      <td>6.187736</td>\n",
       "      <td>2.732506</td>\n",
       "      <td>1941.987579</td>\n",
       "      <td>1998.243537</td>\n",
       "      <td>1963.718024</td>\n",
       "      <td>9.313516e+05</td>\n",
       "      <td>1714.539889</td>\n",
       "      <td>1.219251</td>\n",
       "      <td>2.374674</td>\n",
       "      <td>20012.694563</td>\n",
       "    </tr>\n",
       "    <tr>\n",
       "      <th>std</th>\n",
       "      <td>0.976396</td>\n",
       "      <td>0.587571</td>\n",
       "      <td>2.618165</td>\n",
       "      <td>1.358864</td>\n",
       "      <td>33.640234</td>\n",
       "      <td>16.575786</td>\n",
       "      <td>24.923150</td>\n",
       "      <td>7.061325e+06</td>\n",
       "      <td>880.677860</td>\n",
       "      <td>0.621170</td>\n",
       "      <td>737.295595</td>\n",
       "      <td>15.627084</td>\n",
       "    </tr>\n",
       "    <tr>\n",
       "      <th>min</th>\n",
       "      <td>0.000000</td>\n",
       "      <td>0.000000</td>\n",
       "      <td>0.000000</td>\n",
       "      <td>0.000000</td>\n",
       "      <td>1754.000000</td>\n",
       "      <td>20.000000</td>\n",
       "      <td>1800.000000</td>\n",
       "      <td>1.000000e+00</td>\n",
       "      <td>0.000000</td>\n",
       "      <td>0.000000</td>\n",
       "      <td>0.000000</td>\n",
       "      <td>20001.000000</td>\n",
       "    </tr>\n",
       "    <tr>\n",
       "      <th>25%</th>\n",
       "      <td>1.000000</td>\n",
       "      <td>0.000000</td>\n",
       "      <td>4.000000</td>\n",
       "      <td>2.000000</td>\n",
       "      <td>1918.000000</td>\n",
       "      <td>1985.000000</td>\n",
       "      <td>1954.000000</td>\n",
       "      <td>2.400000e+05</td>\n",
       "      <td>1190.000000</td>\n",
       "      <td>1.000000</td>\n",
       "      <td>0.000000</td>\n",
       "      <td>20007.000000</td>\n",
       "    </tr>\n",
       "    <tr>\n",
       "      <th>50%</th>\n",
       "      <td>2.000000</td>\n",
       "      <td>0.000000</td>\n",
       "      <td>6.000000</td>\n",
       "      <td>3.000000</td>\n",
       "      <td>1937.000000</td>\n",
       "      <td>2004.000000</td>\n",
       "      <td>1963.000000</td>\n",
       "      <td>3.999990e+05</td>\n",
       "      <td>1480.000000</td>\n",
       "      <td>1.000000</td>\n",
       "      <td>0.000000</td>\n",
       "      <td>20011.000000</td>\n",
       "    </tr>\n",
       "    <tr>\n",
       "      <th>75%</th>\n",
       "      <td>2.000000</td>\n",
       "      <td>1.000000</td>\n",
       "      <td>7.000000</td>\n",
       "      <td>3.000000</td>\n",
       "      <td>1960.000000</td>\n",
       "      <td>2010.000000</td>\n",
       "      <td>1975.000000</td>\n",
       "      <td>6.520000e+05</td>\n",
       "      <td>1966.000000</td>\n",
       "      <td>1.000000</td>\n",
       "      <td>1.000000</td>\n",
       "      <td>20018.000000</td>\n",
       "    </tr>\n",
       "    <tr>\n",
       "      <th>max</th>\n",
       "      <td>14.000000</td>\n",
       "      <td>11.000000</td>\n",
       "      <td>48.000000</td>\n",
       "      <td>24.000000</td>\n",
       "      <td>2019.000000</td>\n",
       "      <td>2019.000000</td>\n",
       "      <td>2018.000000</td>\n",
       "      <td>1.374275e+08</td>\n",
       "      <td>45384.000000</td>\n",
       "      <td>44.000000</td>\n",
       "      <td>293920.000000</td>\n",
       "      <td>20392.000000</td>\n",
       "    </tr>\n",
       "  </tbody>\n",
       "</table>\n",
       "</div>"
      ],
      "text/plain": [
       "              BATHRM      HF_BATHRM          ROOMS          BEDRM  \\\n",
       "count  158957.000000  158957.000000  158957.000000  158957.000000   \n",
       "mean        1.810678       0.458237       6.187736       2.732506   \n",
       "std         0.976396       0.587571       2.618165       1.358864   \n",
       "min         0.000000       0.000000       0.000000       0.000000   \n",
       "25%         1.000000       0.000000       4.000000       2.000000   \n",
       "50%         2.000000       0.000000       6.000000       3.000000   \n",
       "75%         2.000000       1.000000       7.000000       3.000000   \n",
       "max        14.000000      11.000000      48.000000      24.000000   \n",
       "\n",
       "                 AYB       YR_RMDL            EYB         PRICE  \\\n",
       "count  158686.000000  80928.000000  158957.000000  9.821600e+04   \n",
       "mean     1941.987579   1998.243537    1963.718024  9.313516e+05   \n",
       "std        33.640234     16.575786      24.923150  7.061325e+06   \n",
       "min      1754.000000     20.000000    1800.000000  1.000000e+00   \n",
       "25%      1918.000000   1985.000000    1954.000000  2.400000e+05   \n",
       "50%      1937.000000   2004.000000    1963.000000  3.999990e+05   \n",
       "75%      1960.000000   2010.000000    1975.000000  6.520000e+05   \n",
       "max      2019.000000   2019.000000    2018.000000  1.374275e+08   \n",
       "\n",
       "                 GBA       KITCHENS     FIREPLACES        ZIPCODE  \n",
       "count  106696.000000  106695.000000  158957.000000  158956.000000  \n",
       "mean     1714.539889       1.219251       2.374674   20012.694563  \n",
       "std       880.677860       0.621170     737.295595      15.627084  \n",
       "min         0.000000       0.000000       0.000000   20001.000000  \n",
       "25%      1190.000000       1.000000       0.000000   20007.000000  \n",
       "50%      1480.000000       1.000000       0.000000   20011.000000  \n",
       "75%      1966.000000       1.000000       1.000000   20018.000000  \n",
       "max     45384.000000      44.000000  293920.000000   20392.000000  "
      ]
     },
     "execution_count": 12,
     "metadata": {},
     "output_type": "execute_result"
    }
   ],
   "source": [
    "DC_properties.describe()"
   ]
  },
  {
   "cell_type": "code",
   "execution_count": 13,
   "metadata": {},
   "outputs": [
    {
     "data": {
      "text/plain": [
       "<matplotlib.axes._subplots.AxesSubplot at 0x1f985482320>"
      ]
     },
     "execution_count": 13,
     "metadata": {},
     "output_type": "execute_result"
    },
    {
     "data": {
      "image/png": "[encoded data removed]",
      "text/plain": [
       "<Figure size 432x288 with 2 Axes>"
      ]
     },
     "metadata": {
      "needs_background": "light"
     },
     "output_type": "display_data"
    }
   ],
   "source": [
    "corr = DC_properties.corr()\n",
    "\n",
    "sns.heatmap(corr, vmin=-1, annot=True)"
   ]
  },
  {
   "cell_type": "code",
   "execution_count": 14,
   "metadata": {},
   "outputs": [
    {
     "data": {
      "text/plain": [
       "(98216, 20)"
      ]
     },
     "execution_count": 14,
     "metadata": {},
     "output_type": "execute_result"
    }
   ],
   "source": [
    "DC_price = DC_properties[DC_properties['PRICE'].notnull()]\n",
    "DC_price.shape"
   ]
  },
  {
   "cell_type": "code",
   "execution_count": 15,
   "metadata": {},
   "outputs": [
    {
     "data": {
      "text/plain": [
       "(90589, 20)"
      ]
     },
     "execution_count": 15,
     "metadata": {},
     "output_type": "execute_result"
    }
   ],
   "source": [
    "DC_realRM_price = DC_price[(DC_price['BEDRM']!= 0) &\n",
    "                           (DC_price['BEDRM']<= 8) &\n",
    "                           (DC_price['PRICE']!= 0) &\n",
    "                          (DC_price['PRICE']<1500000) &\n",
    "                          (DC_price['BATHRM']!= 0) &\n",
    "                        (DC_price['BATHRM']<= 6)]\n",
    "DC_realRM_price.shape"
   ]
  },
  {
   "cell_type": "code",
   "execution_count": 16,
   "metadata": {},
   "outputs": [
    {
     "data": {
      "text/plain": [
       "<seaborn.axisgrid.FacetGrid at 0x1f9855ff400>"
      ]
     },
     "execution_count": 16,
     "metadata": {},
     "output_type": "execute_result"
    },
    {
     "data": {
      "image/png": "[encoded data removed]",
      "text/plain": [
       "<Figure size 360x360 with 1 Axes>"
      ]
     },
     "metadata": {
      "needs_background": "light"
     },
     "output_type": "display_data"
    }
   ],
   "source": [
    "sns.lmplot(x='GBA', y='PRICE', data=DC_realRM_price)"
   ]
  },
  {
   "cell_type": "code",
   "execution_count": 218,
   "metadata": {},
   "outputs": [
    {
     "data": {
      "text/plain": [
       "<matplotlib.axes._subplots.AxesSubplot at 0x1d0067b4240>"
      ]
     },
     "execution_count": 218,
     "metadata": {},
     "output_type": "execute_result"
    },
    {
     "data": {
      "image/png": "[encoded data removed]",
      "text/plain": [
       "<Figure size 432x288 with 1 Axes>"
      ]
     },
     "metadata": {
      "needs_background": "light"
     },
     "output_type": "display_data"
    }
   ],
   "source": [
    "sns.countplot(x='BEDRM',data=DC_realRM_price)"
   ]
  },
  {
   "cell_type": "code",
   "execution_count": 219,
   "metadata": {},
   "outputs": [
    {
     "data": {
      "text/plain": [
       "<matplotlib.axes._subplots.AxesSubplot at 0x1d00699ab70>"
      ]
     },
     "execution_count": 219,
     "metadata": {},
     "output_type": "execute_result"
    },
    {
     "data": {
      "image/png": "[encoded data removed]",
      "text/plain": [
       "<Figure size 432x288 with 1 Axes>"
      ]
     },
     "metadata": {
      "needs_background": "light"
     },
     "output_type": "display_data"
    }
   ],
   "source": [
    "sns.countplot(x='BATHRM',data=DC_realRM_price)"
   ]
  },
  {
   "cell_type": "code",
   "execution_count": 220,
   "metadata": {},
   "outputs": [
    {
     "data": {
      "text/plain": [
       "<matplotlib.axes._subplots.AxesSubplot at 0x1d006a027b8>"
      ]
     },
     "execution_count": 220,
     "metadata": {},
     "output_type": "execute_result"
    },
    {
     "data": {
      "image/png": "[encoded data removed]",
      "text/plain": [
       "<Figure size 432x288 with 1 Axes>"
      ]
     },
     "metadata": {
      "needs_background": "light"
     },
     "output_type": "display_data"
    }
   ],
   "source": [
    "sns.countplot(x='HF_BATHRM',data=DC_realRM_price)"
   ]
  },
  {
   "cell_type": "code",
   "execution_count": 221,
   "metadata": {},
   "outputs": [
    {
     "data": {
      "text/plain": [
       "<matplotlib.axes._subplots.AxesSubplot at 0x1d00b769e10>"
      ]
     },
     "execution_count": 221,
     "metadata": {},
     "output_type": "execute_result"
    },
    {
     "data": {
      "image/png": "[encoded data removed]",
      "text/plain": [
       "<Figure size 432x288 with 1 Axes>"
      ]
     },
     "metadata": {
      "needs_background": "light"
     },
     "output_type": "display_data"
    }
   ],
   "source": [
    "sns.countplot(x='KITCHENS',data=DC_realRM_price)"
   ]
  },
  {
   "cell_type": "code",
   "execution_count": 222,
   "metadata": {},
   "outputs": [
    {
     "data": {
      "text/plain": [
       "<matplotlib.axes._subplots.AxesSubplot at 0x1d00699a390>"
      ]
     },
     "execution_count": 222,
     "metadata": {},
     "output_type": "execute_result"
    },
    {
     "data": {
      "image/png": "[encoded data removed]",
      "text/plain": [
       "<Figure size 432x288 with 1 Axes>"
      ]
     },
     "metadata": {
      "needs_background": "light"
     },
     "output_type": "display_data"
    }
   ],
   "source": [
    "sns.countplot(x='ROOMS',data=DC_realRM_price)"
   ]
  },
  {
   "cell_type": "code",
   "execution_count": 223,
   "metadata": {},
   "outputs": [
    {
     "data": {
      "text/plain": [
       "<seaborn.axisgrid.FacetGrid at 0x1d00b84eac8>"
      ]
     },
     "execution_count": 223,
     "metadata": {},
     "output_type": "execute_result"
    },
    {
     "data": {
      "image/png": "[encoded data removed]",
      "text/plain": [
       "<Figure size 360x360 with 1 Axes>"
      ]
     },
     "metadata": {
      "needs_background": "light"
     },
     "output_type": "display_data"
    }
   ],
   "source": [
    "sns.lmplot(x='ROOMS', y='PRICE', data=DC_realRM_price)"
   ]
  },
  {
   "cell_type": "code",
   "execution_count": 224,
   "metadata": {},
   "outputs": [
    {
     "data": {
      "text/plain": [
       "<matplotlib.axes._subplots.AxesSubplot at 0x1d00b769eb8>"
      ]
     },
     "execution_count": 224,
     "metadata": {},
     "output_type": "execute_result"
    },
    {
     "data": {
      "image/png": "[encoded data removed]",
      "text/plain": [
       "<Figure size 432x288 with 1 Axes>"
      ]
     },
     "metadata": {
      "needs_background": "light"
     },
     "output_type": "display_data"
    }
   ],
   "source": [
    "sns.countplot(x='FIREPLACES',data=DC_realRM_price)"
   ]
  },
  {
   "cell_type": "code",
   "execution_count": 17,
   "metadata": {},
   "outputs": [
    {
     "data": {
      "text/plain": [
       "<matplotlib.axes._subplots.AxesSubplot at 0x1f985689208>"
      ]
     },
     "execution_count": 17,
     "metadata": {},
     "output_type": "execute_result"
    },
    {
     "data": {
      "image/png": "[encoded data removed]",
      "text/plain": [
       "<Figure size 432x288 with 1 Axes>"
      ]
     },
     "metadata": {
      "needs_background": "light"
     },
     "output_type": "display_data"
    }
   ],
   "source": [
    "bedrm_df = DC_realRM_price.drop(['BATHRM', 'HF_BATHRM', 'AC', 'ROOMS', 'PRICE', 'AYB', 'YR_RMDL', 'EYB',\n",
    "       'SALEDATE', 'GRADE', 'CNDTN', 'KITCHENS', 'FIREPLACES',\n",
    "       'SOURCE', 'CITY', 'STATE', 'ZIPCODE', 'QUADRANT', 'GBA'],\n",
    "                   axis=1)\n",
    "sns.boxplot(data=bedrm_df)"
   ]
  },
  {
   "cell_type": "code",
   "execution_count": 18,
   "metadata": {},
   "outputs": [
    {
     "data": {
      "text/plain": [
       "<matplotlib.axes._subplots.AxesSubplot at 0x1f98b6f27f0>"
      ]
     },
     "execution_count": 18,
     "metadata": {},
     "output_type": "execute_result"
    },
    {
     "data": {
      "image/png": "[encoded data removed]",
      "text/plain": [
       "<Figure size 432x288 with 1 Axes>"
      ]
     },
     "metadata": {
      "needs_background": "light"
     },
     "output_type": "display_data"
    }
   ],
   "source": [
    "bathrm_df = DC_realRM_price.drop(['PRICE', 'HF_BATHRM', 'AC', 'ROOMS', 'BEDRM', 'AYB', 'YR_RMDL', 'EYB',\n",
    "       'SALEDATE', 'GRADE', 'CNDTN', 'KITCHENS', 'FIREPLACES',\n",
    "       'SOURCE', 'CITY', 'STATE', 'ZIPCODE', 'QUADRANT', 'GBA'],\n",
    "                   axis=1)\n",
    "sns.boxplot(data=bathrm_df)"
   ]
  },
  {
   "cell_type": "code",
   "execution_count": 19,
   "metadata": {},
   "outputs": [
    {
     "data": {
      "text/plain": [
       "<matplotlib.axes._subplots.AxesSubplot at 0x1f98b73a128>"
      ]
     },
     "execution_count": 19,
     "metadata": {},
     "output_type": "execute_result"
    },
    {
     "data": {
      "image/png": "[encoded data removed]",
      "text/plain": [
       "<Figure size 432x288 with 1 Axes>"
      ]
     },
     "metadata": {
      "needs_background": "light"
     },
     "output_type": "display_data"
    }
   ],
   "source": [
    "hfbathrm_df = DC_realRM_price.drop(['PRICE', 'BATHRM', 'AC', 'ROOMS', 'BEDRM', 'AYB', 'YR_RMDL', 'EYB',\n",
    "       'SALEDATE', 'GRADE', 'CNDTN', 'KITCHENS', 'FIREPLACES',\n",
    "       'SOURCE', 'CITY', 'STATE', 'ZIPCODE', 'QUADRANT', 'GBA'],\n",
    "                   axis=1)\n",
    "sns.boxplot(data=hfbathrm_df)"
   ]
  },
  {
   "cell_type": "code",
   "execution_count": 20,
   "metadata": {},
   "outputs": [
    {
     "data": {
      "text/plain": [
       "<matplotlib.axes._subplots.AxesSubplot at 0x1f98b7b04e0>"
      ]
     },
     "execution_count": 20,
     "metadata": {},
     "output_type": "execute_result"
    },
    {
     "data": {
      "image/png": "[encoded data removed]",
      "text/plain": [
       "<Figure size 432x288 with 1 Axes>"
      ]
     },
     "metadata": {
      "needs_background": "light"
     },
     "output_type": "display_data"
    }
   ],
   "source": [
    "kitchens_df = DC_realRM_price.drop(['BATHRM', 'HF_BATHRM', 'AC', 'ROOMS', 'BEDRM', 'AYB', 'YR_RMDL', 'EYB',\n",
    "       'SALEDATE', 'GRADE', 'CNDTN', 'PRICE', 'FIREPLACES',\n",
    "       'SOURCE', 'CITY', 'STATE', 'ZIPCODE', 'QUADRANT', 'GBA'],\n",
    "                   axis=1)\n",
    "sns.boxplot(data=kitchens_df)"
   ]
  },
  {
   "cell_type": "code",
   "execution_count": 21,
   "metadata": {},
   "outputs": [
    {
     "data": {
      "text/plain": [
       "<matplotlib.axes._subplots.AxesSubplot at 0x1f98b7d0710>"
      ]
     },
     "execution_count": 21,
     "metadata": {},
     "output_type": "execute_result"
    },
    {
     "data": {
      "image/png": "[encoded data removed]",
      "text/plain": [
       "<Figure size 432x288 with 1 Axes>"
      ]
     },
     "metadata": {
      "needs_background": "light"
     },
     "output_type": "display_data"
    }
   ],
   "source": [
    "rooms_df = DC_realRM_price.drop(['BATHRM', 'HF_BATHRM', 'AC', 'PRICE', 'BEDRM', 'AYB', 'YR_RMDL', 'EYB',\n",
    "       'SALEDATE', 'GRADE', 'CNDTN', 'KITCHENS', 'FIREPLACES',\n",
    "       'SOURCE', 'CITY', 'STATE', 'ZIPCODE', 'QUADRANT', 'GBA'],\n",
    "                   axis=1)\n",
    "sns.boxplot(data=rooms_df)"
   ]
  },
  {
   "cell_type": "code",
   "execution_count": 23,
   "metadata": {},
   "outputs": [
    {
     "data": {
      "text/plain": [
       "<matplotlib.axes._subplots.AxesSubplot at 0x1f98b888748>"
      ]
     },
     "execution_count": 23,
     "metadata": {},
     "output_type": "execute_result"
    },
    {
     "data": {
      "image/png": "[encoded data removed]",
      "text/plain": [
       "<Figure size 432x288 with 1 Axes>"
      ]
     },
     "metadata": {
      "needs_background": "light"
     },
     "output_type": "display_data"
    }
   ],
   "source": [
    "fireplaces_df = DC_realRM_price.drop(['BATHRM', 'HF_BATHRM', 'AC', 'ROOMS', 'BEDRM', 'AYB', 'YR_RMDL', 'EYB',\n",
    "       'SALEDATE', 'GRADE', 'CNDTN', 'KITCHENS', 'PRICE',\n",
    "       'SOURCE', 'CITY', 'STATE', 'ZIPCODE', 'QUADRANT', 'GBA'],\n",
    "                   axis=1)\n",
    "sns.boxplot(data=fireplaces_df)"
   ]
  },
  {
   "cell_type": "code",
   "execution_count": 24,
   "metadata": {},
   "outputs": [
    {
     "data": {
      "text/plain": [
       "<matplotlib.axes._subplots.AxesSubplot at 0x1f98b8d5c50>"
      ]
     },
     "execution_count": 24,
     "metadata": {},
     "output_type": "execute_result"
    },
    {
     "data": {
      "image/png": "[encoded data removed]",
      "text/plain": [
       "<Figure size 432x288 with 1 Axes>"
      ]
     },
     "metadata": {
      "needs_background": "light"
     },
     "output_type": "display_data"
    }
   ],
   "source": [
    "price_df = DC_realRM_price.drop(['BATHRM', 'HF_BATHRM', 'AC', 'ROOMS', 'BEDRM', 'AYB', 'YR_RMDL', 'EYB',\n",
    "       'SALEDATE', 'GRADE', 'CNDTN', 'KITCHENS', 'FIREPLACES',\n",
    "       'SOURCE', 'CITY', 'STATE', 'ZIPCODE', 'QUADRANT', 'GBA'],\n",
    "                   axis=1)\n",
    "sns.boxplot(data=price_df)"
   ]
  },
  {
   "cell_type": "code",
   "execution_count": 25,
   "metadata": {},
   "outputs": [
    {
     "data": {
      "text/plain": [
       "<matplotlib.axes._subplots.AxesSubplot at 0x1f98ba440f0>"
      ]
     },
     "execution_count": 25,
     "metadata": {},
     "output_type": "execute_result"
    },
    {
     "data": {
      "image/png": "[encoded data removed]",
      "text/plain": [
       "<Figure size 432x288 with 1 Axes>"
      ]
     },
     "metadata": {
      "needs_background": "light"
     },
     "output_type": "display_data"
    }
   ],
   "source": [
    "GBA_df = DC_realRM_price.drop(['BATHRM', 'HF_BATHRM', 'AC', 'ROOMS', 'BEDRM', 'AYB', 'YR_RMDL', 'EYB',\n",
    "       'SALEDATE', 'GRADE', 'CNDTN', 'KITCHENS', 'FIREPLACES',\n",
    "       'SOURCE', 'CITY', 'STATE', 'ZIPCODE', 'QUADRANT', 'PRICE'],\n",
    "                   axis=1)\n",
    "sns.boxplot(data=GBA_df)"
   ]
  },
  {
   "cell_type": "code",
   "execution_count": 26,
   "metadata": {},
   "outputs": [
    {
     "data": {
      "text/plain": [
       "(55086, 20)"
      ]
     },
     "execution_count": 26,
     "metadata": {},
     "output_type": "execute_result"
    }
   ],
   "source": [
    "DC_realRM2_price = DC_realRM_price[DC_realRM_price['GBA'].notnull()]\n",
    "DC_realRM2_price.shape"
   ]
  },
  {
   "cell_type": "code",
   "execution_count": 27,
   "metadata": {},
   "outputs": [
    {
     "data": {
      "text/plain": [
       "(24001, 20)"
      ]
     },
     "execution_count": 27,
     "metadata": {},
     "output_type": "execute_result"
    }
   ],
   "source": [
    "DC_real_Count_price = DC_realRM2_price[(DC_realRM2_price['BEDRM']!= 0) &\n",
    "                           (DC_realRM2_price['BEDRM']<= 4) &\n",
    "                           (DC_realRM2_price['PRICE']!= 0) &\n",
    "                            (DC_realRM2_price['PRICE']>=234000) &\n",
    "                          (DC_realRM2_price['PRICE']<1200000) &\n",
    "                           (DC_realRM2_price['KITCHENS']!=0) &\n",
    "                           (DC_realRM2_price['KITCHENS']<=4) &\n",
    "                            (DC_realRM2_price['FIREPLACES']<=3) &\n",
    "                           (DC_realRM2_price['BATHRM']!= 0) &\n",
    "                            (DC_realRM2_price['BATHRM']<= 3) &\n",
    "                            (DC_realRM2_price['HF_BATHRM']<= 2) &\n",
    "                            (DC_realRM2_price['GBA']>= 1100) &\n",
    "                            (DC_realRM2_price['GBA']<= 2000)]\n",
    "DC_real_Count_price.shape"
   ]
  },
  {
   "cell_type": "code",
   "execution_count": 28,
   "metadata": {},
   "outputs": [
    {
     "data": {
      "text/plain": [
       "<matplotlib.axes._subplots.AxesSubplot at 0x1f98ba969b0>"
      ]
     },
     "execution_count": 28,
     "metadata": {},
     "output_type": "execute_result"
    },
    {
     "data": {
      "image/png": "[encoded data removed]",
      "text/plain": [
       "<Figure size 432x288 with 1 Axes>"
      ]
     },
     "metadata": {
      "needs_background": "light"
     },
     "output_type": "display_data"
    }
   ],
   "source": [
    "GBA2_df = DC_real_Count_price.drop(['BATHRM', 'HF_BATHRM', 'AC', 'ROOMS', 'BEDRM', 'AYB', 'YR_RMDL', 'EYB',\n",
    "       'SALEDATE', 'GRADE', 'CNDTN', 'KITCHENS', 'FIREPLACES',\n",
    "       'SOURCE', 'CITY', 'STATE', 'ZIPCODE', 'QUADRANT', 'PRICE'],\n",
    "                   axis=1)\n",
    "sns.boxplot(data=GBA2_df)"
   ]
  },
  {
   "cell_type": "code",
   "execution_count": 29,
   "metadata": {},
   "outputs": [
    {
     "data": {
      "text/html": [
       "<div>\n",
       "<style scoped>\n",
       "    .dataframe tbody tr th:only-of-type {\n",
       "        vertical-align: middle;\n",
       "    }\n",
       "\n",
       "    .dataframe tbody tr th {\n",
       "        vertical-align: top;\n",
       "    }\n",
       "\n",
       "    .dataframe thead th {\n",
       "        text-align: right;\n",
       "    }\n",
       "</style>\n",
       "<table border=\"1\" class=\"dataframe\">\n",
       "  <thead>\n",
       "    <tr style=\"text-align: right;\">\n",
       "      <th></th>\n",
       "      <th>BATHRM</th>\n",
       "      <th>HF_BATHRM</th>\n",
       "      <th>ROOMS</th>\n",
       "      <th>BEDRM</th>\n",
       "      <th>AYB</th>\n",
       "      <th>YR_RMDL</th>\n",
       "      <th>EYB</th>\n",
       "      <th>PRICE</th>\n",
       "      <th>GBA</th>\n",
       "      <th>KITCHENS</th>\n",
       "      <th>FIREPLACES</th>\n",
       "      <th>ZIPCODE</th>\n",
       "    </tr>\n",
       "  </thead>\n",
       "  <tbody>\n",
       "    <tr>\n",
       "      <th>count</th>\n",
       "      <td>24001.000000</td>\n",
       "      <td>24001.000000</td>\n",
       "      <td>24001.000000</td>\n",
       "      <td>24001.000000</td>\n",
       "      <td>23975.000000</td>\n",
       "      <td>14539.000000</td>\n",
       "      <td>24001.000000</td>\n",
       "      <td>2.400100e+04</td>\n",
       "      <td>24001.000000</td>\n",
       "      <td>24001.000000</td>\n",
       "      <td>24001.000000</td>\n",
       "      <td>24001.000000</td>\n",
       "    </tr>\n",
       "    <tr>\n",
       "      <th>mean</th>\n",
       "      <td>2.039748</td>\n",
       "      <td>0.704637</td>\n",
       "      <td>6.908004</td>\n",
       "      <td>3.159785</td>\n",
       "      <td>1934.439583</td>\n",
       "      <td>2005.166174</td>\n",
       "      <td>1971.216991</td>\n",
       "      <td>5.575819e+05</td>\n",
       "      <td>1484.820007</td>\n",
       "      <td>1.137703</td>\n",
       "      <td>0.550894</td>\n",
       "      <td>20010.639307</td>\n",
       "    </tr>\n",
       "    <tr>\n",
       "      <th>std</th>\n",
       "      <td>0.717811</td>\n",
       "      <td>0.556296</td>\n",
       "      <td>1.290137</td>\n",
       "      <td>0.594146</td>\n",
       "      <td>32.423672</td>\n",
       "      <td>20.427968</td>\n",
       "      <td>17.207072</td>\n",
       "      <td>2.245460e+05</td>\n",
       "      <td>229.418268</td>\n",
       "      <td>0.359623</td>\n",
       "      <td>0.681728</td>\n",
       "      <td>7.319297</td>\n",
       "    </tr>\n",
       "    <tr>\n",
       "      <th>min</th>\n",
       "      <td>1.000000</td>\n",
       "      <td>0.000000</td>\n",
       "      <td>2.000000</td>\n",
       "      <td>1.000000</td>\n",
       "      <td>1776.000000</td>\n",
       "      <td>20.000000</td>\n",
       "      <td>1940.000000</td>\n",
       "      <td>2.340000e+05</td>\n",
       "      <td>1100.000000</td>\n",
       "      <td>1.000000</td>\n",
       "      <td>0.000000</td>\n",
       "      <td>20001.000000</td>\n",
       "    </tr>\n",
       "    <tr>\n",
       "      <th>25%</th>\n",
       "      <td>2.000000</td>\n",
       "      <td>0.000000</td>\n",
       "      <td>6.000000</td>\n",
       "      <td>3.000000</td>\n",
       "      <td>1912.000000</td>\n",
       "      <td>2003.000000</td>\n",
       "      <td>1961.000000</td>\n",
       "      <td>3.630000e+05</td>\n",
       "      <td>1296.000000</td>\n",
       "      <td>1.000000</td>\n",
       "      <td>0.000000</td>\n",
       "      <td>20003.000000</td>\n",
       "    </tr>\n",
       "    <tr>\n",
       "      <th>50%</th>\n",
       "      <td>2.000000</td>\n",
       "      <td>1.000000</td>\n",
       "      <td>7.000000</td>\n",
       "      <td>3.000000</td>\n",
       "      <td>1927.000000</td>\n",
       "      <td>2009.000000</td>\n",
       "      <td>1967.000000</td>\n",
       "      <td>5.250000e+05</td>\n",
       "      <td>1460.000000</td>\n",
       "      <td>1.000000</td>\n",
       "      <td>0.000000</td>\n",
       "      <td>20011.000000</td>\n",
       "    </tr>\n",
       "    <tr>\n",
       "      <th>75%</th>\n",
       "      <td>3.000000</td>\n",
       "      <td>1.000000</td>\n",
       "      <td>8.000000</td>\n",
       "      <td>4.000000</td>\n",
       "      <td>1942.000000</td>\n",
       "      <td>2013.000000</td>\n",
       "      <td>1975.000000</td>\n",
       "      <td>7.280000e+05</td>\n",
       "      <td>1653.000000</td>\n",
       "      <td>1.000000</td>\n",
       "      <td>1.000000</td>\n",
       "      <td>20017.000000</td>\n",
       "    </tr>\n",
       "    <tr>\n",
       "      <th>max</th>\n",
       "      <td>3.000000</td>\n",
       "      <td>2.000000</td>\n",
       "      <td>16.000000</td>\n",
       "      <td>4.000000</td>\n",
       "      <td>2018.000000</td>\n",
       "      <td>2018.000000</td>\n",
       "      <td>2018.000000</td>\n",
       "      <td>1.199000e+06</td>\n",
       "      <td>2000.000000</td>\n",
       "      <td>4.000000</td>\n",
       "      <td>3.000000</td>\n",
       "      <td>20052.000000</td>\n",
       "    </tr>\n",
       "  </tbody>\n",
       "</table>\n",
       "</div>"
      ],
      "text/plain": [
       "             BATHRM     HF_BATHRM         ROOMS         BEDRM           AYB  \\\n",
       "count  24001.000000  24001.000000  24001.000000  24001.000000  23975.000000   \n",
       "mean       2.039748      0.704637      6.908004      3.159785   1934.439583   \n",
       "std        0.717811      0.556296      1.290137      0.594146     32.423672   \n",
       "min        1.000000      0.000000      2.000000      1.000000   1776.000000   \n",
       "25%        2.000000      0.000000      6.000000      3.000000   1912.000000   \n",
       "50%        2.000000      1.000000      7.000000      3.000000   1927.000000   \n",
       "75%        3.000000      1.000000      8.000000      4.000000   1942.000000   \n",
       "max        3.000000      2.000000     16.000000      4.000000   2018.000000   \n",
       "\n",
       "            YR_RMDL           EYB         PRICE           GBA      KITCHENS  \\\n",
       "count  14539.000000  24001.000000  2.400100e+04  24001.000000  24001.000000   \n",
       "mean    2005.166174   1971.216991  5.575819e+05   1484.820007      1.137703   \n",
       "std       20.427968     17.207072  2.245460e+05    229.418268      0.359623   \n",
       "min       20.000000   1940.000000  2.340000e+05   1100.000000      1.000000   \n",
       "25%     2003.000000   1961.000000  3.630000e+05   1296.000000      1.000000   \n",
       "50%     2009.000000   1967.000000  5.250000e+05   1460.000000      1.000000   \n",
       "75%     2013.000000   1975.000000  7.280000e+05   1653.000000      1.000000   \n",
       "max     2018.000000   2018.000000  1.199000e+06   2000.000000      4.000000   \n",
       "\n",
       "         FIREPLACES       ZIPCODE  \n",
       "count  24001.000000  24001.000000  \n",
       "mean       0.550894  20010.639307  \n",
       "std        0.681728      7.319297  \n",
       "min        0.000000  20001.000000  \n",
       "25%        0.000000  20003.000000  \n",
       "50%        0.000000  20011.000000  \n",
       "75%        1.000000  20017.000000  \n",
       "max        3.000000  20052.000000  "
      ]
     },
     "execution_count": 29,
     "metadata": {},
     "output_type": "execute_result"
    }
   ],
   "source": [
    "DC_real_Count_price.describe()"
   ]
  },
  {
   "cell_type": "code",
   "execution_count": 30,
   "metadata": {},
   "outputs": [
    {
     "data": {
      "text/plain": [
       "<seaborn.axisgrid.FacetGrid at 0x1f98baf00b8>"
      ]
     },
     "execution_count": 30,
     "metadata": {},
     "output_type": "execute_result"
    },
    {
     "data": {
      "image/png": "[encoded data removed]",
      "text/plain": [
       "<Figure size 360x360 with 1 Axes>"
      ]
     },
     "metadata": {
      "needs_background": "light"
     },
     "output_type": "display_data"
    }
   ],
   "source": [
    "sns.lmplot(x='BEDRM', y='PRICE', data=DC_real_Count_price)"
   ]
  },
  {
   "cell_type": "code",
   "execution_count": 31,
   "metadata": {},
   "outputs": [
    {
     "data": {
      "text/plain": [
       "<seaborn.axisgrid.FacetGrid at 0x1f98c13f9e8>"
      ]
     },
     "execution_count": 31,
     "metadata": {},
     "output_type": "execute_result"
    },
    {
     "data": {
      "image/png": "[encoded data removed]",
      "text/plain": [
       "<Figure size 360x360 with 1 Axes>"
      ]
     },
     "metadata": {
      "needs_background": "light"
     },
     "output_type": "display_data"
    }
   ],
   "source": [
    "sns.lmplot(x='BATHRM', y='PRICE', data=DC_real_Count_price)"
   ]
  },
  {
   "cell_type": "code",
   "execution_count": 43,
   "metadata": {},
   "outputs": [
    {
     "data": {
      "text/html": [
       "<div>\n",
       "<style scoped>\n",
       "    .dataframe tbody tr th:only-of-type {\n",
       "        vertical-align: middle;\n",
       "    }\n",
       "\n",
       "    .dataframe tbody tr th {\n",
       "        vertical-align: top;\n",
       "    }\n",
       "\n",
       "    .dataframe thead th {\n",
       "        text-align: right;\n",
       "    }\n",
       "</style>\n",
       "<table border=\"1\" class=\"dataframe\">\n",
       "  <thead>\n",
       "    <tr style=\"text-align: right;\">\n",
       "      <th></th>\n",
       "      <th>BATHRM</th>\n",
       "      <th>HF_BATHRM</th>\n",
       "      <th>ROOMS</th>\n",
       "      <th>BEDRM</th>\n",
       "      <th>AYB</th>\n",
       "      <th>YR_RMDL</th>\n",
       "      <th>EYB</th>\n",
       "      <th>PRICE</th>\n",
       "      <th>GBA</th>\n",
       "      <th>KITCHENS</th>\n",
       "      <th>FIREPLACES</th>\n",
       "      <th>ZIPCODE</th>\n",
       "    </tr>\n",
       "  </thead>\n",
       "  <tbody>\n",
       "    <tr>\n",
       "      <th>BATHRM</th>\n",
       "      <td>1.000000</td>\n",
       "      <td>-0.007641</td>\n",
       "      <td>0.297526</td>\n",
       "      <td>0.326269</td>\n",
       "      <td>0.170206</td>\n",
       "      <td>0.138184</td>\n",
       "      <td>0.317581</td>\n",
       "      <td>0.271060</td>\n",
       "      <td>0.250797</td>\n",
       "      <td>0.213325</td>\n",
       "      <td>0.060662</td>\n",
       "      <td>0.026410</td>\n",
       "    </tr>\n",
       "    <tr>\n",
       "      <th>HF_BATHRM</th>\n",
       "      <td>-0.007641</td>\n",
       "      <td>1.000000</td>\n",
       "      <td>0.082256</td>\n",
       "      <td>0.041439</td>\n",
       "      <td>0.202501</td>\n",
       "      <td>0.033977</td>\n",
       "      <td>0.293615</td>\n",
       "      <td>0.081686</td>\n",
       "      <td>0.169388</td>\n",
       "      <td>-0.063487</td>\n",
       "      <td>0.071775</td>\n",
       "      <td>0.083186</td>\n",
       "    </tr>\n",
       "    <tr>\n",
       "      <th>ROOMS</th>\n",
       "      <td>0.297526</td>\n",
       "      <td>0.082256</td>\n",
       "      <td>1.000000</td>\n",
       "      <td>0.390766</td>\n",
       "      <td>0.041802</td>\n",
       "      <td>0.028540</td>\n",
       "      <td>0.048216</td>\n",
       "      <td>0.105652</td>\n",
       "      <td>0.252396</td>\n",
       "      <td>0.156356</td>\n",
       "      <td>0.055919</td>\n",
       "      <td>0.028313</td>\n",
       "    </tr>\n",
       "    <tr>\n",
       "      <th>BEDRM</th>\n",
       "      <td>0.326269</td>\n",
       "      <td>0.041439</td>\n",
       "      <td>0.390766</td>\n",
       "      <td>1.000000</td>\n",
       "      <td>-0.001093</td>\n",
       "      <td>0.073083</td>\n",
       "      <td>0.015882</td>\n",
       "      <td>0.096359</td>\n",
       "      <td>0.277365</td>\n",
       "      <td>0.148772</td>\n",
       "      <td>-0.011282</td>\n",
       "      <td>0.035051</td>\n",
       "    </tr>\n",
       "    <tr>\n",
       "      <th>AYB</th>\n",
       "      <td>0.170206</td>\n",
       "      <td>0.202501</td>\n",
       "      <td>0.041802</td>\n",
       "      <td>-0.001093</td>\n",
       "      <td>1.000000</td>\n",
       "      <td>0.069636</td>\n",
       "      <td>0.748405</td>\n",
       "      <td>-0.211208</td>\n",
       "      <td>0.009171</td>\n",
       "      <td>-0.182058</td>\n",
       "      <td>-0.124712</td>\n",
       "      <td>0.518627</td>\n",
       "    </tr>\n",
       "    <tr>\n",
       "      <th>YR_RMDL</th>\n",
       "      <td>0.138184</td>\n",
       "      <td>0.033977</td>\n",
       "      <td>0.028540</td>\n",
       "      <td>0.073083</td>\n",
       "      <td>0.069636</td>\n",
       "      <td>1.000000</td>\n",
       "      <td>0.166860</td>\n",
       "      <td>0.052530</td>\n",
       "      <td>-0.032276</td>\n",
       "      <td>-0.018553</td>\n",
       "      <td>-0.108819</td>\n",
       "      <td>0.034601</td>\n",
       "    </tr>\n",
       "    <tr>\n",
       "      <th>EYB</th>\n",
       "      <td>0.317581</td>\n",
       "      <td>0.293615</td>\n",
       "      <td>0.048216</td>\n",
       "      <td>0.015882</td>\n",
       "      <td>0.748405</td>\n",
       "      <td>0.166860</td>\n",
       "      <td>1.000000</td>\n",
       "      <td>0.056928</td>\n",
       "      <td>0.110419</td>\n",
       "      <td>-0.076189</td>\n",
       "      <td>-0.079842</td>\n",
       "      <td>0.274663</td>\n",
       "    </tr>\n",
       "    <tr>\n",
       "      <th>PRICE</th>\n",
       "      <td>0.271060</td>\n",
       "      <td>0.081686</td>\n",
       "      <td>0.105652</td>\n",
       "      <td>0.096359</td>\n",
       "      <td>-0.211208</td>\n",
       "      <td>0.052530</td>\n",
       "      <td>0.056928</td>\n",
       "      <td>1.000000</td>\n",
       "      <td>0.234426</td>\n",
       "      <td>0.111474</td>\n",
       "      <td>0.267892</td>\n",
       "      <td>-0.269562</td>\n",
       "    </tr>\n",
       "    <tr>\n",
       "      <th>GBA</th>\n",
       "      <td>0.250797</td>\n",
       "      <td>0.169388</td>\n",
       "      <td>0.252396</td>\n",
       "      <td>0.277365</td>\n",
       "      <td>0.009171</td>\n",
       "      <td>-0.032276</td>\n",
       "      <td>0.110419</td>\n",
       "      <td>0.234426</td>\n",
       "      <td>1.000000</td>\n",
       "      <td>0.047306</td>\n",
       "      <td>0.260070</td>\n",
       "      <td>0.012577</td>\n",
       "    </tr>\n",
       "    <tr>\n",
       "      <th>KITCHENS</th>\n",
       "      <td>0.213325</td>\n",
       "      <td>-0.063487</td>\n",
       "      <td>0.156356</td>\n",
       "      <td>0.148772</td>\n",
       "      <td>-0.182058</td>\n",
       "      <td>-0.018553</td>\n",
       "      <td>-0.076189</td>\n",
       "      <td>0.111474</td>\n",
       "      <td>0.047306</td>\n",
       "      <td>1.000000</td>\n",
       "      <td>0.028093</td>\n",
       "      <td>-0.196777</td>\n",
       "    </tr>\n",
       "    <tr>\n",
       "      <th>FIREPLACES</th>\n",
       "      <td>0.060662</td>\n",
       "      <td>0.071775</td>\n",
       "      <td>0.055919</td>\n",
       "      <td>-0.011282</td>\n",
       "      <td>-0.124712</td>\n",
       "      <td>-0.108819</td>\n",
       "      <td>-0.079842</td>\n",
       "      <td>0.267892</td>\n",
       "      <td>0.260070</td>\n",
       "      <td>0.028093</td>\n",
       "      <td>1.000000</td>\n",
       "      <td>-0.017594</td>\n",
       "    </tr>\n",
       "    <tr>\n",
       "      <th>ZIPCODE</th>\n",
       "      <td>0.026410</td>\n",
       "      <td>0.083186</td>\n",
       "      <td>0.028313</td>\n",
       "      <td>0.035051</td>\n",
       "      <td>0.518627</td>\n",
       "      <td>0.034601</td>\n",
       "      <td>0.274663</td>\n",
       "      <td>-0.269562</td>\n",
       "      <td>0.012577</td>\n",
       "      <td>-0.196777</td>\n",
       "      <td>-0.017594</td>\n",
       "      <td>1.000000</td>\n",
       "    </tr>\n",
       "  </tbody>\n",
       "</table>\n",
       "</div>"
      ],
      "text/plain": [
       "              BATHRM  HF_BATHRM     ROOMS     BEDRM       AYB   YR_RMDL  \\\n",
       "BATHRM      1.000000  -0.007641  0.297526  0.326269  0.170206  0.138184   \n",
       "HF_BATHRM  -0.007641   1.000000  0.082256  0.041439  0.202501  0.033977   \n",
       "ROOMS       0.297526   0.082256  1.000000  0.390766  0.041802  0.028540   \n",
       "BEDRM       0.326269   0.041439  0.390766  1.000000 -0.001093  0.073083   \n",
       "AYB         0.170206   0.202501  0.041802 -0.001093  1.000000  0.069636   \n",
       "YR_RMDL     0.138184   0.033977  0.028540  0.073083  0.069636  1.000000   \n",
       "EYB         0.317581   0.293615  0.048216  0.015882  0.748405  0.166860   \n",
       "PRICE       0.271060   0.081686  0.105652  0.096359 -0.211208  0.052530   \n",
       "GBA         0.250797   0.169388  0.252396  0.277365  0.009171 -0.032276   \n",
       "KITCHENS    0.213325  -0.063487  0.156356  0.148772 -0.182058 -0.018553   \n",
       "FIREPLACES  0.060662   0.071775  0.055919 -0.011282 -0.124712 -0.108819   \n",
       "ZIPCODE     0.026410   0.083186  0.028313  0.035051  0.518627  0.034601   \n",
       "\n",
       "                 EYB     PRICE       GBA  KITCHENS  FIREPLACES   ZIPCODE  \n",
       "BATHRM      0.317581  0.271060  0.250797  0.213325    0.060662  0.026410  \n",
       "HF_BATHRM   0.293615  0.081686  0.169388 -0.063487    0.071775  0.083186  \n",
       "ROOMS       0.048216  0.105652  0.252396  0.156356    0.055919  0.028313  \n",
       "BEDRM       0.015882  0.096359  0.277365  0.148772   -0.011282  0.035051  \n",
       "AYB         0.748405 -0.211208  0.009171 -0.182058   -0.124712  0.518627  \n",
       "YR_RMDL     0.166860  0.052530 -0.032276 -0.018553   -0.108819  0.034601  \n",
       "EYB         1.000000  0.056928  0.110419 -0.076189   -0.079842  0.274663  \n",
       "PRICE       0.056928  1.000000  0.234426  0.111474    0.267892 -0.269562  \n",
       "GBA         0.110419  0.234426  1.000000  0.047306    0.260070  0.012577  \n",
       "KITCHENS   -0.076189  0.111474  0.047306  1.000000    0.028093 -0.196777  \n",
       "FIREPLACES -0.079842  0.267892  0.260070  0.028093    1.000000 -0.017594  \n",
       "ZIPCODE     0.274663 -0.269562  0.012577 -0.196777   -0.017594  1.000000  "
      ]
     },
     "execution_count": 43,
     "metadata": {},
     "output_type": "execute_result"
    }
   ],
   "source": [
    "DC_real_Count_price.corr()"
   ]
  },
  {
   "cell_type": "code",
   "execution_count": 33,
   "metadata": {},
   "outputs": [
    {
     "data": {
      "text/plain": [
       "<matplotlib.axes._subplots.AxesSubplot at 0x1f98c43f3c8>"
      ]
     },
     "execution_count": 33,
     "metadata": {},
     "output_type": "execute_result"
    },
    {
     "data": {
      "image/png": "[encoded data removed]",
      "text/plain": [
       "<Figure size 432x288 with 1 Axes>"
      ]
     },
     "metadata": {
      "needs_background": "light"
     },
     "output_type": "display_data"
    }
   ],
   "source": [
    "sns.violinplot(x='SOURCE', y='PRICE', data=DC_real_Count_price, inner=None)"
   ]
  },
  {
   "cell_type": "code",
   "execution_count": 34,
   "metadata": {},
   "outputs": [
    {
     "data": {
      "text/plain": [
       "<matplotlib.axes._subplots.AxesSubplot at 0x1f98d22ddd8>"
      ]
     },
     "execution_count": 34,
     "metadata": {},
     "output_type": "execute_result"
    },
    {
     "data": {
      "image/png": "[encoded data removed]",
      "text/plain": [
       "<Figure size 432x288 with 1 Axes>"
      ]
     },
     "metadata": {
      "needs_background": "light"
     },
     "output_type": "display_data"
    }
   ],
   "source": [
    "sns.violinplot(x='QUADRANT',y='PRICE', data=DC_real_Count_price, inner=None)"
   ]
  },
  {
   "cell_type": "code",
   "execution_count": 35,
   "metadata": {},
   "outputs": [
    {
     "data": {
      "text/plain": [
       "<matplotlib.axes._subplots.AxesSubplot at 0x1f98d25cd68>"
      ]
     },
     "execution_count": 35,
     "metadata": {},
     "output_type": "execute_result"
    },
    {
     "data": {
      "image/png": "[encoded data removed]",
      "text/plain": [
       "<Figure size 432x288 with 1 Axes>"
      ]
     },
     "metadata": {
      "needs_background": "light"
     },
     "output_type": "display_data"
    }
   ],
   "source": [
    "sns.violinplot(x='CNDTN',y='PRICE', data=DC_real_Count_price, inner=None)"
   ]
  },
  {
   "cell_type": "code",
   "execution_count": 36,
   "metadata": {},
   "outputs": [
    {
     "data": {
      "text/html": [
       "<table class=\"simpletable\">\n",
       "<caption>OLS Regression Results</caption>\n",
       "<tr>\n",
       "  <th>Dep. Variable:</th>          <td>PRICE</td>      <th>  R-squared:         </th>  <td>   0.169</td>  \n",
       "</tr>\n",
       "<tr>\n",
       "  <th>Model:</th>                   <td>OLS</td>       <th>  Adj. R-squared:    </th>  <td>   0.168</td>  \n",
       "</tr>\n",
       "<tr>\n",
       "  <th>Method:</th>             <td>Least Squares</td>  <th>  F-statistic:       </th>  <td>   540.2</td>  \n",
       "</tr>\n",
       "<tr>\n",
       "  <th>Date:</th>             <td>Sat, 13 Jul 2019</td> <th>  Prob (F-statistic):</th>   <td>  0.00</td>   \n",
       "</tr>\n",
       "<tr>\n",
       "  <th>Time:</th>                 <td>11:58:23</td>     <th>  Log-Likelihood:    </th> <td>-3.2758e+05</td>\n",
       "</tr>\n",
       "<tr>\n",
       "  <th>No. Observations:</th>      <td> 24001</td>      <th>  AIC:               </th>  <td>6.552e+05</td> \n",
       "</tr>\n",
       "<tr>\n",
       "  <th>Df Residuals:</th>          <td> 23991</td>      <th>  BIC:               </th>  <td>6.553e+05</td> \n",
       "</tr>\n",
       "<tr>\n",
       "  <th>Df Model:</th>              <td>     9</td>      <th>                     </th>      <td> </td>     \n",
       "</tr>\n",
       "<tr>\n",
       "  <th>Covariance Type:</th>      <td>nonrobust</td>    <th>                     </th>      <td> </td>     \n",
       "</tr>\n",
       "</table>\n",
       "<table class=\"simpletable\">\n",
       "<tr>\n",
       "           <td></td>             <th>coef</th>     <th>std err</th>      <th>t</th>      <th>P>|t|</th>  <th>[0.025</th>    <th>0.975]</th>  \n",
       "</tr>\n",
       "<tr>\n",
       "  <th>Intercept</th>          <td> 2.741e+05</td> <td> 8048.964</td> <td>   34.050</td> <td> 0.000</td> <td> 2.58e+05</td> <td>  2.9e+05</td>\n",
       "</tr>\n",
       "<tr>\n",
       "  <th>CNDTN[T.Excellent]</th> <td> 8.597e+04</td> <td> 1.04e+04</td> <td>    8.237</td> <td> 0.000</td> <td> 6.55e+04</td> <td> 1.06e+05</td>\n",
       "</tr>\n",
       "<tr>\n",
       "  <th>CNDTN[T.Fair]</th>      <td> 2965.9289</td> <td> 1.72e+04</td> <td>    0.172</td> <td> 0.863</td> <td>-3.08e+04</td> <td> 3.67e+04</td>\n",
       "</tr>\n",
       "<tr>\n",
       "  <th>CNDTN[T.Good]</th>      <td> 8.023e+04</td> <td> 3045.055</td> <td>   26.347</td> <td> 0.000</td> <td> 7.43e+04</td> <td> 8.62e+04</td>\n",
       "</tr>\n",
       "<tr>\n",
       "  <th>CNDTN[T.Poor]</th>      <td> 1.109e+05</td> <td> 4.37e+04</td> <td>    2.536</td> <td> 0.011</td> <td> 2.52e+04</td> <td> 1.97e+05</td>\n",
       "</tr>\n",
       "<tr>\n",
       "  <th>CNDTN[T.Very Good]</th> <td>  9.81e+04</td> <td> 4480.900</td> <td>   21.893</td> <td> 0.000</td> <td> 8.93e+04</td> <td> 1.07e+05</td>\n",
       "</tr>\n",
       "<tr>\n",
       "  <th>BEDRM</th>              <td> 6834.2340</td> <td> 2365.837</td> <td>    2.889</td> <td> 0.004</td> <td> 2197.045</td> <td> 1.15e+04</td>\n",
       "</tr>\n",
       "<tr>\n",
       "  <th>BATHRM</th>             <td>  5.55e+04</td> <td> 2125.442</td> <td>   26.114</td> <td> 0.000</td> <td> 5.13e+04</td> <td> 5.97e+04</td>\n",
       "</tr>\n",
       "<tr>\n",
       "  <th>FIREPLACES</th>         <td> 8.591e+04</td> <td> 1984.176</td> <td>   43.295</td> <td> 0.000</td> <td>  8.2e+04</td> <td> 8.98e+04</td>\n",
       "</tr>\n",
       "<tr>\n",
       "  <th>KITCHENS</th>           <td> 4.044e+04</td> <td> 3808.561</td> <td>   10.617</td> <td> 0.000</td> <td>  3.3e+04</td> <td> 4.79e+04</td>\n",
       "</tr>\n",
       "</table>\n",
       "<table class=\"simpletable\">\n",
       "<tr>\n",
       "  <th>Omnibus:</th>       <td>831.708</td> <th>  Durbin-Watson:     </th> <td>   1.333</td> \n",
       "</tr>\n",
       "<tr>\n",
       "  <th>Prob(Omnibus):</th> <td> 0.000</td>  <th>  Jarque-Bera (JB):  </th> <td> 702.907</td> \n",
       "</tr>\n",
       "<tr>\n",
       "  <th>Skew:</th>          <td> 0.350</td>  <th>  Prob(JB):          </th> <td>2.32e-153</td>\n",
       "</tr>\n",
       "<tr>\n",
       "  <th>Kurtosis:</th>      <td> 2.539</td>  <th>  Cond. No.          </th> <td>    138.</td> \n",
       "</tr>\n",
       "</table><br/><br/>Warnings:<br/>[1] Standard Errors assume that the covariance matrix of the errors is correctly specified."
      ],
      "text/plain": [
       "<class 'statsmodels.iolib.summary.Summary'>\n",
       "\"\"\"\n",
       "                            OLS Regression Results                            \n",
       "==============================================================================\n",
       "Dep. Variable:                  PRICE   R-squared:                       0.169\n",
       "Model:                            OLS   Adj. R-squared:                  0.168\n",
       "Method:                 Least Squares   F-statistic:                     540.2\n",
       "Date:                Sat, 13 Jul 2019   Prob (F-statistic):               0.00\n",
       "Time:                        11:58:23   Log-Likelihood:            -3.2758e+05\n",
       "No. Observations:               24001   AIC:                         6.552e+05\n",
       "Df Residuals:                   23991   BIC:                         6.553e+05\n",
       "Df Model:                           9                                         \n",
       "Covariance Type:            nonrobust                                         \n",
       "======================================================================================\n",
       "                         coef    std err          t      P>|t|      [0.025      0.975]\n",
       "--------------------------------------------------------------------------------------\n",
       "Intercept           2.741e+05   8048.964     34.050      0.000    2.58e+05     2.9e+05\n",
       "CNDTN[T.Excellent]  8.597e+04   1.04e+04      8.237      0.000    6.55e+04    1.06e+05\n",
       "CNDTN[T.Fair]       2965.9289   1.72e+04      0.172      0.863   -3.08e+04    3.67e+04\n",
       "CNDTN[T.Good]       8.023e+04   3045.055     26.347      0.000    7.43e+04    8.62e+04\n",
       "CNDTN[T.Poor]       1.109e+05   4.37e+04      2.536      0.011    2.52e+04    1.97e+05\n",
       "CNDTN[T.Very Good]   9.81e+04   4480.900     21.893      0.000    8.93e+04    1.07e+05\n",
       "BEDRM               6834.2340   2365.837      2.889      0.004    2197.045    1.15e+04\n",
       "BATHRM               5.55e+04   2125.442     26.114      0.000    5.13e+04    5.97e+04\n",
       "FIREPLACES          8.591e+04   1984.176     43.295      0.000     8.2e+04    8.98e+04\n",
       "KITCHENS            4.044e+04   3808.561     10.617      0.000     3.3e+04    4.79e+04\n",
       "==============================================================================\n",
       "Omnibus:                      831.708   Durbin-Watson:                   1.333\n",
       "Prob(Omnibus):                  0.000   Jarque-Bera (JB):              702.907\n",
       "Skew:                           0.350   Prob(JB):                    2.32e-153\n",
       "Kurtosis:                       2.539   Cond. No.                         138.\n",
       "==============================================================================\n",
       "\n",
       "Warnings:\n",
       "[1] Standard Errors assume that the covariance matrix of the errors is correctly specified.\n",
       "\"\"\""
      ]
     },
     "execution_count": 36,
     "metadata": {},
     "output_type": "execute_result"
    }
   ],
   "source": [
    "result = smf.ols('PRICE ~ BEDRM + BATHRM + FIREPLACES + KITCHENS + CNDTN',\n",
    "                 data=DC_real_Count_price).fit()\n",
    "result.summary()"
   ]
  },
  {
   "cell_type": "code",
   "execution_count": 37,
   "metadata": {},
   "outputs": [
    {
     "data": {
      "text/html": [
       "<table class=\"simpletable\">\n",
       "<caption>OLS Regression Results</caption>\n",
       "<tr>\n",
       "  <th>Dep. Variable:</th>          <td>PRICE</td>      <th>  R-squared:         </th>  <td>   0.256</td>  \n",
       "</tr>\n",
       "<tr>\n",
       "  <th>Model:</th>                   <td>OLS</td>       <th>  Adj. R-squared:    </th>  <td>   0.256</td>  \n",
       "</tr>\n",
       "<tr>\n",
       "  <th>Method:</th>             <td>Least Squares</td>  <th>  F-statistic:       </th>  <td>   417.0</td>  \n",
       "</tr>\n",
       "<tr>\n",
       "  <th>Date:</th>             <td>Sat, 13 Jul 2019</td> <th>  Prob (F-statistic):</th>   <td>  0.00</td>   \n",
       "</tr>\n",
       "<tr>\n",
       "  <th>Time:</th>                 <td>11:58:24</td>     <th>  Log-Likelihood:    </th> <td>-1.9738e+05</td>\n",
       "</tr>\n",
       "<tr>\n",
       "  <th>No. Observations:</th>      <td> 14527</td>      <th>  AIC:               </th>  <td>3.948e+05</td> \n",
       "</tr>\n",
       "<tr>\n",
       "  <th>Df Residuals:</th>          <td> 14514</td>      <th>  BIC:               </th>  <td>3.949e+05</td> \n",
       "</tr>\n",
       "<tr>\n",
       "  <th>Df Model:</th>              <td>    12</td>      <th>                     </th>      <td> </td>     \n",
       "</tr>\n",
       "<tr>\n",
       "  <th>Covariance Type:</th>      <td>nonrobust</td>    <th>                     </th>      <td> </td>     \n",
       "</tr>\n",
       "</table>\n",
       "<table class=\"simpletable\">\n",
       "<tr>\n",
       "           <td></td>             <th>coef</th>     <th>std err</th>      <th>t</th>      <th>P>|t|</th>  <th>[0.025</th>    <th>0.975]</th>  \n",
       "</tr>\n",
       "<tr>\n",
       "  <th>Intercept</th>          <td>-6.333e+06</td> <td> 4.05e+05</td> <td>  -15.641</td> <td> 0.000</td> <td>-7.13e+06</td> <td>-5.54e+06</td>\n",
       "</tr>\n",
       "<tr>\n",
       "  <th>CNDTN[T.Excellent]</th> <td> 1.884e+05</td> <td>  4.7e+04</td> <td>    4.013</td> <td> 0.000</td> <td> 9.64e+04</td> <td>  2.8e+05</td>\n",
       "</tr>\n",
       "<tr>\n",
       "  <th>CNDTN[T.Fair]</th>      <td>-8766.2964</td> <td> 4.83e+04</td> <td>   -0.182</td> <td> 0.856</td> <td>-1.03e+05</td> <td> 8.59e+04</td>\n",
       "</tr>\n",
       "<tr>\n",
       "  <th>CNDTN[T.Good]</th>      <td> 5.143e+04</td> <td> 4112.516</td> <td>   12.505</td> <td> 0.000</td> <td> 4.34e+04</td> <td> 5.95e+04</td>\n",
       "</tr>\n",
       "<tr>\n",
       "  <th>CNDTN[T.Poor]</th>      <td> -1.86e+04</td> <td> 1.93e+05</td> <td>   -0.097</td> <td> 0.923</td> <td>-3.96e+05</td> <td> 3.59e+05</td>\n",
       "</tr>\n",
       "<tr>\n",
       "  <th>CNDTN[T.Very Good]</th> <td> 1.106e+05</td> <td> 6031.609</td> <td>   18.332</td> <td> 0.000</td> <td> 9.87e+04</td> <td> 1.22e+05</td>\n",
       "</tr>\n",
       "<tr>\n",
       "  <th>BEDRM</th>              <td> 5125.1336</td> <td> 2784.237</td> <td>    1.841</td> <td> 0.066</td> <td> -332.325</td> <td> 1.06e+04</td>\n",
       "</tr>\n",
       "<tr>\n",
       "  <th>BATHRM</th>             <td> 5.192e+04</td> <td> 2590.690</td> <td>   20.040</td> <td> 0.000</td> <td> 4.68e+04</td> <td>  5.7e+04</td>\n",
       "</tr>\n",
       "<tr>\n",
       "  <th>FIREPLACES</th>         <td> 7.237e+04</td> <td> 2335.150</td> <td>   30.991</td> <td> 0.000</td> <td> 6.78e+04</td> <td> 7.69e+04</td>\n",
       "</tr>\n",
       "<tr>\n",
       "  <th>KITCHENS</th>           <td> 7135.9355</td> <td> 4220.157</td> <td>    1.691</td> <td> 0.091</td> <td>-1136.110</td> <td> 1.54e+04</td>\n",
       "</tr>\n",
       "<tr>\n",
       "  <th>AYB</th>                <td>-2855.7169</td> <td>   85.063</td> <td>  -33.572</td> <td> 0.000</td> <td>-3022.450</td> <td>-2688.983</td>\n",
       "</tr>\n",
       "<tr>\n",
       "  <th>EYB</th>                <td> 6210.5270</td> <td>  203.724</td> <td>   30.485</td> <td> 0.000</td> <td> 5811.201</td> <td> 6609.853</td>\n",
       "</tr>\n",
       "<tr>\n",
       "  <th>YR_RMDL</th>            <td>  -14.3673</td> <td>   81.444</td> <td>   -0.176</td> <td> 0.860</td> <td> -174.008</td> <td>  145.274</td>\n",
       "</tr>\n",
       "</table>\n",
       "<table class=\"simpletable\">\n",
       "<tr>\n",
       "  <th>Omnibus:</th>       <td>184.372</td> <th>  Durbin-Watson:     </th> <td>   1.448</td>\n",
       "</tr>\n",
       "<tr>\n",
       "  <th>Prob(Omnibus):</th> <td> 0.000</td>  <th>  Jarque-Bera (JB):  </th> <td> 177.752</td>\n",
       "</tr>\n",
       "<tr>\n",
       "  <th>Skew:</th>          <td> 0.242</td>  <th>  Prob(JB):          </th> <td>2.52e-39</td>\n",
       "</tr>\n",
       "<tr>\n",
       "  <th>Kurtosis:</th>      <td> 2.757</td>  <th>  Cond. No.          </th> <td>8.63e+05</td>\n",
       "</tr>\n",
       "</table><br/><br/>Warnings:<br/>[1] Standard Errors assume that the covariance matrix of the errors is correctly specified.<br/>[2] The condition number is large, 8.63e+05. This might indicate that there are<br/>strong multicollinearity or other numerical problems."
      ],
      "text/plain": [
       "<class 'statsmodels.iolib.summary.Summary'>\n",
       "\"\"\"\n",
       "                            OLS Regression Results                            \n",
       "==============================================================================\n",
       "Dep. Variable:                  PRICE   R-squared:                       0.256\n",
       "Model:                            OLS   Adj. R-squared:                  0.256\n",
       "Method:                 Least Squares   F-statistic:                     417.0\n",
       "Date:                Sat, 13 Jul 2019   Prob (F-statistic):               0.00\n",
       "Time:                        11:58:24   Log-Likelihood:            -1.9738e+05\n",
       "No. Observations:               14527   AIC:                         3.948e+05\n",
       "Df Residuals:                   14514   BIC:                         3.949e+05\n",
       "Df Model:                          12                                         \n",
       "Covariance Type:            nonrobust                                         \n",
       "======================================================================================\n",
       "                         coef    std err          t      P>|t|      [0.025      0.975]\n",
       "--------------------------------------------------------------------------------------\n",
       "Intercept          -6.333e+06   4.05e+05    -15.641      0.000   -7.13e+06   -5.54e+06\n",
       "CNDTN[T.Excellent]  1.884e+05    4.7e+04      4.013      0.000    9.64e+04     2.8e+05\n",
       "CNDTN[T.Fair]      -8766.2964   4.83e+04     -0.182      0.856   -1.03e+05    8.59e+04\n",
       "CNDTN[T.Good]       5.143e+04   4112.516     12.505      0.000    4.34e+04    5.95e+04\n",
       "CNDTN[T.Poor]       -1.86e+04   1.93e+05     -0.097      0.923   -3.96e+05    3.59e+05\n",
       "CNDTN[T.Very Good]  1.106e+05   6031.609     18.332      0.000    9.87e+04    1.22e+05\n",
       "BEDRM               5125.1336   2784.237      1.841      0.066    -332.325    1.06e+04\n",
       "BATHRM              5.192e+04   2590.690     20.040      0.000    4.68e+04     5.7e+04\n",
       "FIREPLACES          7.237e+04   2335.150     30.991      0.000    6.78e+04    7.69e+04\n",
       "KITCHENS            7135.9355   4220.157      1.691      0.091   -1136.110    1.54e+04\n",
       "AYB                -2855.7169     85.063    -33.572      0.000   -3022.450   -2688.983\n",
       "EYB                 6210.5270    203.724     30.485      0.000    5811.201    6609.853\n",
       "YR_RMDL              -14.3673     81.444     -0.176      0.860    -174.008     145.274\n",
       "==============================================================================\n",
       "Omnibus:                      184.372   Durbin-Watson:                   1.448\n",
       "Prob(Omnibus):                  0.000   Jarque-Bera (JB):              177.752\n",
       "Skew:                           0.242   Prob(JB):                     2.52e-39\n",
       "Kurtosis:                       2.757   Cond. No.                     8.63e+05\n",
       "==============================================================================\n",
       "\n",
       "Warnings:\n",
       "[1] Standard Errors assume that the covariance matrix of the errors is correctly specified.\n",
       "[2] The condition number is large, 8.63e+05. This might indicate that there are\n",
       "strong multicollinearity or other numerical problems.\n",
       "\"\"\""
      ]
     },
     "execution_count": 37,
     "metadata": {},
     "output_type": "execute_result"
    }
   ],
   "source": [
    "result_2 = smf.ols('PRICE ~ BEDRM + BATHRM + FIREPLACES + KITCHENS + CNDTN + AYB + EYB + YR_RMDL',\n",
    "                 data=DC_real_Count_price).fit()\n",
    "result_2.summary()"
   ]
  },
  {
   "cell_type": "code",
   "execution_count": 38,
   "metadata": {},
   "outputs": [
    {
     "data": {
      "text/html": [
       "<table class=\"simpletable\">\n",
       "<caption>OLS Regression Results</caption>\n",
       "<tr>\n",
       "  <th>Dep. Variable:</th>          <td>PRICE</td>      <th>  R-squared:         </th>  <td>   0.256</td>  \n",
       "</tr>\n",
       "<tr>\n",
       "  <th>Model:</th>                   <td>OLS</td>       <th>  Adj. R-squared:    </th>  <td>   0.256</td>  \n",
       "</tr>\n",
       "<tr>\n",
       "  <th>Method:</th>             <td>Least Squares</td>  <th>  F-statistic:       </th>  <td>   417.0</td>  \n",
       "</tr>\n",
       "<tr>\n",
       "  <th>Date:</th>             <td>Sat, 13 Jul 2019</td> <th>  Prob (F-statistic):</th>   <td>  0.00</td>   \n",
       "</tr>\n",
       "<tr>\n",
       "  <th>Time:</th>                 <td>11:58:24</td>     <th>  Log-Likelihood:    </th> <td>-1.9738e+05</td>\n",
       "</tr>\n",
       "<tr>\n",
       "  <th>No. Observations:</th>      <td> 14527</td>      <th>  AIC:               </th>  <td>3.948e+05</td> \n",
       "</tr>\n",
       "<tr>\n",
       "  <th>Df Residuals:</th>          <td> 14514</td>      <th>  BIC:               </th>  <td>3.949e+05</td> \n",
       "</tr>\n",
       "<tr>\n",
       "  <th>Df Model:</th>              <td>    12</td>      <th>                     </th>      <td> </td>     \n",
       "</tr>\n",
       "<tr>\n",
       "  <th>Covariance Type:</th>      <td>nonrobust</td>    <th>                     </th>      <td> </td>     \n",
       "</tr>\n",
       "</table>\n",
       "<table class=\"simpletable\">\n",
       "<tr>\n",
       "          <td></td>            <th>coef</th>     <th>std err</th>      <th>t</th>      <th>P>|t|</th>  <th>[0.025</th>    <th>0.975]</th>  \n",
       "</tr>\n",
       "<tr>\n",
       "  <th>CNDTN[Average]</th>   <td>-6.333e+06</td> <td> 4.05e+05</td> <td>  -15.641</td> <td> 0.000</td> <td>-7.13e+06</td> <td>-5.54e+06</td>\n",
       "</tr>\n",
       "<tr>\n",
       "  <th>CNDTN[Excellent]</th> <td>-6.145e+06</td> <td>  4.1e+05</td> <td>  -14.980</td> <td> 0.000</td> <td>-6.95e+06</td> <td>-5.34e+06</td>\n",
       "</tr>\n",
       "<tr>\n",
       "  <th>CNDTN[Fair]</th>      <td>-6.342e+06</td> <td> 4.06e+05</td> <td>  -15.608</td> <td> 0.000</td> <td>-7.14e+06</td> <td>-5.55e+06</td>\n",
       "</tr>\n",
       "<tr>\n",
       "  <th>CNDTN[Good]</th>      <td>-6.282e+06</td> <td> 4.06e+05</td> <td>  -15.473</td> <td> 0.000</td> <td>-7.08e+06</td> <td>-5.49e+06</td>\n",
       "</tr>\n",
       "<tr>\n",
       "  <th>CNDTN[Poor]</th>      <td>-6.352e+06</td> <td> 4.48e+05</td> <td>  -14.178</td> <td> 0.000</td> <td>-7.23e+06</td> <td>-5.47e+06</td>\n",
       "</tr>\n",
       "<tr>\n",
       "  <th>CNDTN[Very Good]</th> <td>-6.223e+06</td> <td> 4.06e+05</td> <td>  -15.313</td> <td> 0.000</td> <td>-7.02e+06</td> <td>-5.43e+06</td>\n",
       "</tr>\n",
       "<tr>\n",
       "  <th>BEDRM</th>            <td> 5125.1336</td> <td> 2784.237</td> <td>    1.841</td> <td> 0.066</td> <td> -332.325</td> <td> 1.06e+04</td>\n",
       "</tr>\n",
       "<tr>\n",
       "  <th>BATHRM</th>           <td> 5.192e+04</td> <td> 2590.690</td> <td>   20.040</td> <td> 0.000</td> <td> 4.68e+04</td> <td>  5.7e+04</td>\n",
       "</tr>\n",
       "<tr>\n",
       "  <th>FIREPLACES</th>       <td> 7.237e+04</td> <td> 2335.150</td> <td>   30.991</td> <td> 0.000</td> <td> 6.78e+04</td> <td> 7.69e+04</td>\n",
       "</tr>\n",
       "<tr>\n",
       "  <th>KITCHENS</th>         <td> 7135.9355</td> <td> 4220.157</td> <td>    1.691</td> <td> 0.091</td> <td>-1136.110</td> <td> 1.54e+04</td>\n",
       "</tr>\n",
       "<tr>\n",
       "  <th>AYB</th>              <td>-2855.7169</td> <td>   85.063</td> <td>  -33.572</td> <td> 0.000</td> <td>-3022.450</td> <td>-2688.983</td>\n",
       "</tr>\n",
       "<tr>\n",
       "  <th>EYB</th>              <td> 6210.5270</td> <td>  203.724</td> <td>   30.485</td> <td> 0.000</td> <td> 5811.201</td> <td> 6609.853</td>\n",
       "</tr>\n",
       "<tr>\n",
       "  <th>YR_RMDL</th>          <td>  -14.3673</td> <td>   81.444</td> <td>   -0.176</td> <td> 0.860</td> <td> -174.008</td> <td>  145.274</td>\n",
       "</tr>\n",
       "</table>\n",
       "<table class=\"simpletable\">\n",
       "<tr>\n",
       "  <th>Omnibus:</th>       <td>184.372</td> <th>  Durbin-Watson:     </th> <td>   1.448</td>\n",
       "</tr>\n",
       "<tr>\n",
       "  <th>Prob(Omnibus):</th> <td> 0.000</td>  <th>  Jarque-Bera (JB):  </th> <td> 177.752</td>\n",
       "</tr>\n",
       "<tr>\n",
       "  <th>Skew:</th>          <td> 0.242</td>  <th>  Prob(JB):          </th> <td>2.52e-39</td>\n",
       "</tr>\n",
       "<tr>\n",
       "  <th>Kurtosis:</th>      <td> 2.757</td>  <th>  Cond. No.          </th> <td>2.12e+06</td>\n",
       "</tr>\n",
       "</table><br/><br/>Warnings:<br/>[1] Standard Errors assume that the covariance matrix of the errors is correctly specified.<br/>[2] The condition number is large, 2.12e+06. This might indicate that there are<br/>strong multicollinearity or other numerical problems."
      ],
      "text/plain": [
       "<class 'statsmodels.iolib.summary.Summary'>\n",
       "\"\"\"\n",
       "                            OLS Regression Results                            \n",
       "==============================================================================\n",
       "Dep. Variable:                  PRICE   R-squared:                       0.256\n",
       "Model:                            OLS   Adj. R-squared:                  0.256\n",
       "Method:                 Least Squares   F-statistic:                     417.0\n",
       "Date:                Sat, 13 Jul 2019   Prob (F-statistic):               0.00\n",
       "Time:                        11:58:24   Log-Likelihood:            -1.9738e+05\n",
       "No. Observations:               14527   AIC:                         3.948e+05\n",
       "Df Residuals:                   14514   BIC:                         3.949e+05\n",
       "Df Model:                          12                                         \n",
       "Covariance Type:            nonrobust                                         \n",
       "====================================================================================\n",
       "                       coef    std err          t      P>|t|      [0.025      0.975]\n",
       "------------------------------------------------------------------------------------\n",
       "CNDTN[Average]   -6.333e+06   4.05e+05    -15.641      0.000   -7.13e+06   -5.54e+06\n",
       "CNDTN[Excellent] -6.145e+06    4.1e+05    -14.980      0.000   -6.95e+06   -5.34e+06\n",
       "CNDTN[Fair]      -6.342e+06   4.06e+05    -15.608      0.000   -7.14e+06   -5.55e+06\n",
       "CNDTN[Good]      -6.282e+06   4.06e+05    -15.473      0.000   -7.08e+06   -5.49e+06\n",
       "CNDTN[Poor]      -6.352e+06   4.48e+05    -14.178      0.000   -7.23e+06   -5.47e+06\n",
       "CNDTN[Very Good] -6.223e+06   4.06e+05    -15.313      0.000   -7.02e+06   -5.43e+06\n",
       "BEDRM             5125.1336   2784.237      1.841      0.066    -332.325    1.06e+04\n",
       "BATHRM            5.192e+04   2590.690     20.040      0.000    4.68e+04     5.7e+04\n",
       "FIREPLACES        7.237e+04   2335.150     30.991      0.000    6.78e+04    7.69e+04\n",
       "KITCHENS          7135.9355   4220.157      1.691      0.091   -1136.110    1.54e+04\n",
       "AYB              -2855.7169     85.063    -33.572      0.000   -3022.450   -2688.983\n",
       "EYB               6210.5270    203.724     30.485      0.000    5811.201    6609.853\n",
       "YR_RMDL            -14.3673     81.444     -0.176      0.860    -174.008     145.274\n",
       "==============================================================================\n",
       "Omnibus:                      184.372   Durbin-Watson:                   1.448\n",
       "Prob(Omnibus):                  0.000   Jarque-Bera (JB):              177.752\n",
       "Skew:                           0.242   Prob(JB):                     2.52e-39\n",
       "Kurtosis:                       2.757   Cond. No.                     2.12e+06\n",
       "==============================================================================\n",
       "\n",
       "Warnings:\n",
       "[1] Standard Errors assume that the covariance matrix of the errors is correctly specified.\n",
       "[2] The condition number is large, 2.12e+06. This might indicate that there are\n",
       "strong multicollinearity or other numerical problems.\n",
       "\"\"\""
      ]
     },
     "execution_count": 38,
     "metadata": {},
     "output_type": "execute_result"
    }
   ],
   "source": [
    "result_3 = smf.ols('PRICE ~ BEDRM + BATHRM + FIREPLACES + KITCHENS + CNDTN + AYB + EYB + YR_RMDL -1',\n",
    "                   data=DC_real_Count_price).fit()\n",
    "result_3.summary()"
   ]
  },
  {
   "cell_type": "code",
   "execution_count": 39,
   "metadata": {
    "scrolled": true
   },
   "outputs": [
    {
     "data": {
      "text/html": [
       "<table class=\"simpletable\">\n",
       "<caption>OLS Regression Results</caption>\n",
       "<tr>\n",
       "  <th>Dep. Variable:</th>          <td>PRICE</td>      <th>  R-squared:         </th>  <td>   0.905</td>  \n",
       "</tr>\n",
       "<tr>\n",
       "  <th>Model:</th>                   <td>OLS</td>       <th>  Adj. R-squared:    </th>  <td>   0.905</td>  \n",
       "</tr>\n",
       "<tr>\n",
       "  <th>Method:</th>             <td>Least Squares</td>  <th>  F-statistic:       </th>  <td>1.967e+04</td> \n",
       "</tr>\n",
       "<tr>\n",
       "  <th>Date:</th>             <td>Sat, 13 Jul 2019</td> <th>  Prob (F-statistic):</th>   <td>  0.00</td>   \n",
       "</tr>\n",
       "<tr>\n",
       "  <th>Time:</th>                 <td>11:58:24</td>     <th>  Log-Likelihood:    </th> <td>-1.9777e+05</td>\n",
       "</tr>\n",
       "<tr>\n",
       "  <th>No. Observations:</th>      <td> 14527</td>      <th>  AIC:               </th>  <td>3.956e+05</td> \n",
       "</tr>\n",
       "<tr>\n",
       "  <th>Df Residuals:</th>          <td> 14520</td>      <th>  BIC:               </th>  <td>3.956e+05</td> \n",
       "</tr>\n",
       "<tr>\n",
       "  <th>Df Model:</th>              <td>     7</td>      <th>                     </th>      <td> </td>     \n",
       "</tr>\n",
       "<tr>\n",
       "  <th>Covariance Type:</th>      <td>nonrobust</td>    <th>                     </th>      <td> </td>     \n",
       "</tr>\n",
       "</table>\n",
       "<table class=\"simpletable\">\n",
       "<tr>\n",
       "       <td></td>         <th>coef</th>     <th>std err</th>      <th>t</th>      <th>P>|t|</th>  <th>[0.025</th>    <th>0.975]</th>  \n",
       "</tr>\n",
       "<tr>\n",
       "  <th>BEDRM</th>      <td> 7245.3841</td> <td> 2856.536</td> <td>    2.536</td> <td> 0.011</td> <td> 1646.210</td> <td> 1.28e+04</td>\n",
       "</tr>\n",
       "<tr>\n",
       "  <th>BATHRM</th>     <td> 7.471e+04</td> <td> 2525.224</td> <td>   29.584</td> <td> 0.000</td> <td> 6.98e+04</td> <td> 7.97e+04</td>\n",
       "</tr>\n",
       "<tr>\n",
       "  <th>FIREPLACES</th> <td> 6.765e+04</td> <td> 2371.987</td> <td>   28.522</td> <td> 0.000</td> <td>  6.3e+04</td> <td> 7.23e+04</td>\n",
       "</tr>\n",
       "<tr>\n",
       "  <th>KITCHENS</th>   <td>-7589.8066</td> <td> 4300.002</td> <td>   -1.765</td> <td> 0.078</td> <td> -1.6e+04</td> <td>  838.746</td>\n",
       "</tr>\n",
       "<tr>\n",
       "  <th>AYB</th>        <td>-3379.1704</td> <td>   85.133</td> <td>  -39.693</td> <td> 0.000</td> <td>-3546.042</td> <td>-3212.298</td>\n",
       "</tr>\n",
       "<tr>\n",
       "  <th>EYB</th>        <td> 3764.5528</td> <td>  112.688</td> <td>   33.407</td> <td> 0.000</td> <td> 3543.671</td> <td> 3985.435</td>\n",
       "</tr>\n",
       "<tr>\n",
       "  <th>YR_RMDL</th>    <td> -263.4491</td> <td>   79.487</td> <td>   -3.314</td> <td> 0.001</td> <td> -419.255</td> <td> -107.644</td>\n",
       "</tr>\n",
       "</table>\n",
       "<table class=\"simpletable\">\n",
       "<tr>\n",
       "  <th>Omnibus:</th>       <td>140.664</td> <th>  Durbin-Watson:     </th> <td>   1.499</td>\n",
       "</tr>\n",
       "<tr>\n",
       "  <th>Prob(Omnibus):</th> <td> 0.000</td>  <th>  Jarque-Bera (JB):  </th> <td> 133.463</td>\n",
       "</tr>\n",
       "<tr>\n",
       "  <th>Skew:</th>          <td> 0.204</td>  <th>  Prob(JB):          </th> <td>1.04e-29</td>\n",
       "</tr>\n",
       "<tr>\n",
       "  <th>Kurtosis:</th>      <td> 2.767</td>  <th>  Cond. No.          </th> <td>9.02e+03</td>\n",
       "</tr>\n",
       "</table><br/><br/>Warnings:<br/>[1] Standard Errors assume that the covariance matrix of the errors is correctly specified.<br/>[2] The condition number is large, 9.02e+03. This might indicate that there are<br/>strong multicollinearity or other numerical problems."
      ],
      "text/plain": [
       "<class 'statsmodels.iolib.summary.Summary'>\n",
       "\"\"\"\n",
       "                            OLS Regression Results                            \n",
       "==============================================================================\n",
       "Dep. Variable:                  PRICE   R-squared:                       0.905\n",
       "Model:                            OLS   Adj. R-squared:                  0.905\n",
       "Method:                 Least Squares   F-statistic:                 1.967e+04\n",
       "Date:                Sat, 13 Jul 2019   Prob (F-statistic):               0.00\n",
       "Time:                        11:58:24   Log-Likelihood:            -1.9777e+05\n",
       "No. Observations:               14527   AIC:                         3.956e+05\n",
       "Df Residuals:                   14520   BIC:                         3.956e+05\n",
       "Df Model:                           7                                         \n",
       "Covariance Type:            nonrobust                                         \n",
       "==============================================================================\n",
       "                 coef    std err          t      P>|t|      [0.025      0.975]\n",
       "------------------------------------------------------------------------------\n",
       "BEDRM       7245.3841   2856.536      2.536      0.011    1646.210    1.28e+04\n",
       "BATHRM      7.471e+04   2525.224     29.584      0.000    6.98e+04    7.97e+04\n",
       "FIREPLACES  6.765e+04   2371.987     28.522      0.000     6.3e+04    7.23e+04\n",
       "KITCHENS   -7589.8066   4300.002     -1.765      0.078    -1.6e+04     838.746\n",
       "AYB        -3379.1704     85.133    -39.693      0.000   -3546.042   -3212.298\n",
       "EYB         3764.5528    112.688     33.407      0.000    3543.671    3985.435\n",
       "YR_RMDL     -263.4491     79.487     -3.314      0.001    -419.255    -107.644\n",
       "==============================================================================\n",
       "Omnibus:                      140.664   Durbin-Watson:                   1.499\n",
       "Prob(Omnibus):                  0.000   Jarque-Bera (JB):              133.463\n",
       "Skew:                           0.204   Prob(JB):                     1.04e-29\n",
       "Kurtosis:                       2.767   Cond. No.                     9.02e+03\n",
       "==============================================================================\n",
       "\n",
       "Warnings:\n",
       "[1] Standard Errors assume that the covariance matrix of the errors is correctly specified.\n",
       "[2] The condition number is large, 9.02e+03. This might indicate that there are\n",
       "strong multicollinearity or other numerical problems.\n",
       "\"\"\""
      ]
     },
     "execution_count": 39,
     "metadata": {},
     "output_type": "execute_result"
    }
   ],
   "source": [
    "result_4 = smf.ols('PRICE ~ BEDRM + BATHRM + FIREPLACES + KITCHENS + AYB + EYB + YR_RMDL -1',\n",
    "                   data=DC_real_Count_price).fit()\n",
    "result_4.summary()"
   ]
  },
  {
   "cell_type": "code",
   "execution_count": 40,
   "metadata": {},
   "outputs": [
    {
     "data": {
      "text/html": [
       "<table class=\"simpletable\">\n",
       "<caption>OLS Regression Results</caption>\n",
       "<tr>\n",
       "  <th>Dep. Variable:</th>          <td>PRICE</td>      <th>  R-squared:         </th>  <td>   0.905</td>  \n",
       "</tr>\n",
       "<tr>\n",
       "  <th>Model:</th>                   <td>OLS</td>       <th>  Adj. R-squared:    </th>  <td>   0.905</td>  \n",
       "</tr>\n",
       "<tr>\n",
       "  <th>Method:</th>             <td>Least Squares</td>  <th>  F-statistic:       </th>  <td>1.967e+04</td> \n",
       "</tr>\n",
       "<tr>\n",
       "  <th>Date:</th>             <td>Sat, 13 Jul 2019</td> <th>  Prob (F-statistic):</th>   <td>  0.00</td>   \n",
       "</tr>\n",
       "<tr>\n",
       "  <th>Time:</th>                 <td>11:58:25</td>     <th>  Log-Likelihood:    </th> <td>-1.9777e+05</td>\n",
       "</tr>\n",
       "<tr>\n",
       "  <th>No. Observations:</th>      <td> 14527</td>      <th>  AIC:               </th>  <td>3.956e+05</td> \n",
       "</tr>\n",
       "<tr>\n",
       "  <th>Df Residuals:</th>          <td> 14520</td>      <th>  BIC:               </th>  <td>3.956e+05</td> \n",
       "</tr>\n",
       "<tr>\n",
       "  <th>Df Model:</th>              <td>     7</td>      <th>                     </th>      <td> </td>     \n",
       "</tr>\n",
       "<tr>\n",
       "  <th>Covariance Type:</th>      <td>nonrobust</td>    <th>                     </th>      <td> </td>     \n",
       "</tr>\n",
       "</table>\n",
       "<table class=\"simpletable\">\n",
       "<tr>\n",
       "       <td></td>         <th>coef</th>     <th>std err</th>      <th>t</th>      <th>P>|t|</th>  <th>[0.025</th>    <th>0.975]</th>  \n",
       "</tr>\n",
       "<tr>\n",
       "  <th>BEDRM</th>      <td> 7245.3841</td> <td> 2856.536</td> <td>    2.536</td> <td> 0.011</td> <td> 1646.210</td> <td> 1.28e+04</td>\n",
       "</tr>\n",
       "<tr>\n",
       "  <th>BATHRM</th>     <td> 7.471e+04</td> <td> 2525.224</td> <td>   29.584</td> <td> 0.000</td> <td> 6.98e+04</td> <td> 7.97e+04</td>\n",
       "</tr>\n",
       "<tr>\n",
       "  <th>FIREPLACES</th> <td> 6.765e+04</td> <td> 2371.987</td> <td>   28.522</td> <td> 0.000</td> <td>  6.3e+04</td> <td> 7.23e+04</td>\n",
       "</tr>\n",
       "<tr>\n",
       "  <th>KITCHENS</th>   <td>-7589.8066</td> <td> 4300.002</td> <td>   -1.765</td> <td> 0.078</td> <td> -1.6e+04</td> <td>  838.746</td>\n",
       "</tr>\n",
       "<tr>\n",
       "  <th>AYB</th>        <td>-3379.1704</td> <td>   85.133</td> <td>  -39.693</td> <td> 0.000</td> <td>-3546.042</td> <td>-3212.298</td>\n",
       "</tr>\n",
       "<tr>\n",
       "  <th>EYB</th>        <td> 3764.5528</td> <td>  112.688</td> <td>   33.407</td> <td> 0.000</td> <td> 3543.671</td> <td> 3985.435</td>\n",
       "</tr>\n",
       "<tr>\n",
       "  <th>YR_RMDL</th>    <td> -263.4491</td> <td>   79.487</td> <td>   -3.314</td> <td> 0.001</td> <td> -419.255</td> <td> -107.644</td>\n",
       "</tr>\n",
       "</table>\n",
       "<table class=\"simpletable\">\n",
       "<tr>\n",
       "  <th>Omnibus:</th>       <td>140.664</td> <th>  Durbin-Watson:     </th> <td>   1.499</td>\n",
       "</tr>\n",
       "<tr>\n",
       "  <th>Prob(Omnibus):</th> <td> 0.000</td>  <th>  Jarque-Bera (JB):  </th> <td> 133.463</td>\n",
       "</tr>\n",
       "<tr>\n",
       "  <th>Skew:</th>          <td> 0.204</td>  <th>  Prob(JB):          </th> <td>1.04e-29</td>\n",
       "</tr>\n",
       "<tr>\n",
       "  <th>Kurtosis:</th>      <td> 2.767</td>  <th>  Cond. No.          </th> <td>9.02e+03</td>\n",
       "</tr>\n",
       "</table><br/><br/>Warnings:<br/>[1] Standard Errors assume that the covariance matrix of the errors is correctly specified.<br/>[2] The condition number is large, 9.02e+03. This might indicate that there are<br/>strong multicollinearity or other numerical problems."
      ],
      "text/plain": [
       "<class 'statsmodels.iolib.summary.Summary'>\n",
       "\"\"\"\n",
       "                            OLS Regression Results                            \n",
       "==============================================================================\n",
       "Dep. Variable:                  PRICE   R-squared:                       0.905\n",
       "Model:                            OLS   Adj. R-squared:                  0.905\n",
       "Method:                 Least Squares   F-statistic:                 1.967e+04\n",
       "Date:                Sat, 13 Jul 2019   Prob (F-statistic):               0.00\n",
       "Time:                        11:58:25   Log-Likelihood:            -1.9777e+05\n",
       "No. Observations:               14527   AIC:                         3.956e+05\n",
       "Df Residuals:                   14520   BIC:                         3.956e+05\n",
       "Df Model:                           7                                         \n",
       "Covariance Type:            nonrobust                                         \n",
       "==============================================================================\n",
       "                 coef    std err          t      P>|t|      [0.025      0.975]\n",
       "------------------------------------------------------------------------------\n",
       "BEDRM       7245.3841   2856.536      2.536      0.011    1646.210    1.28e+04\n",
       "BATHRM      7.471e+04   2525.224     29.584      0.000    6.98e+04    7.97e+04\n",
       "FIREPLACES  6.765e+04   2371.987     28.522      0.000     6.3e+04    7.23e+04\n",
       "KITCHENS   -7589.8066   4300.002     -1.765      0.078    -1.6e+04     838.746\n",
       "AYB        -3379.1704     85.133    -39.693      0.000   -3546.042   -3212.298\n",
       "EYB         3764.5528    112.688     33.407      0.000    3543.671    3985.435\n",
       "YR_RMDL     -263.4491     79.487     -3.314      0.001    -419.255    -107.644\n",
       "==============================================================================\n",
       "Omnibus:                      140.664   Durbin-Watson:                   1.499\n",
       "Prob(Omnibus):                  0.000   Jarque-Bera (JB):              133.463\n",
       "Skew:                           0.204   Prob(JB):                     1.04e-29\n",
       "Kurtosis:                       2.767   Cond. No.                     9.02e+03\n",
       "==============================================================================\n",
       "\n",
       "Warnings:\n",
       "[1] Standard Errors assume that the covariance matrix of the errors is correctly specified.\n",
       "[2] The condition number is large, 9.02e+03. This might indicate that there are\n",
       "strong multicollinearity or other numerical problems.\n",
       "\"\"\""
      ]
     },
     "execution_count": 40,
     "metadata": {},
     "output_type": "execute_result"
    }
   ],
   "source": [
    "result_5 = smf.ols('PRICE ~ BEDRM + BATHRM + FIREPLACES + KITCHENS + AYB + EYB + YR_RMDL -1',\n",
    "                   data=DC_real_Count_price).fit()\n",
    "result_5.summary()"
   ]
  },
  {
   "cell_type": "code",
   "execution_count": 41,
   "metadata": {},
   "outputs": [
    {
     "data": {
      "text/html": [
       "<table class=\"simpletable\">\n",
       "<caption>OLS Regression Results</caption>\n",
       "<tr>\n",
       "  <th>Dep. Variable:</th>          <td>PRICE</td>      <th>  R-squared:         </th>  <td>   0.905</td>  \n",
       "</tr>\n",
       "<tr>\n",
       "  <th>Model:</th>                   <td>OLS</td>       <th>  Adj. R-squared:    </th>  <td>   0.905</td>  \n",
       "</tr>\n",
       "<tr>\n",
       "  <th>Method:</th>             <td>Least Squares</td>  <th>  F-statistic:       </th>  <td>2.293e+04</td> \n",
       "</tr>\n",
       "<tr>\n",
       "  <th>Date:</th>             <td>Sat, 13 Jul 2019</td> <th>  Prob (F-statistic):</th>   <td>  0.00</td>   \n",
       "</tr>\n",
       "<tr>\n",
       "  <th>Time:</th>                 <td>11:58:25</td>     <th>  Log-Likelihood:    </th> <td>-1.9777e+05</td>\n",
       "</tr>\n",
       "<tr>\n",
       "  <th>No. Observations:</th>      <td> 14527</td>      <th>  AIC:               </th>  <td>3.956e+05</td> \n",
       "</tr>\n",
       "<tr>\n",
       "  <th>Df Residuals:</th>          <td> 14521</td>      <th>  BIC:               </th>  <td>3.956e+05</td> \n",
       "</tr>\n",
       "<tr>\n",
       "  <th>Df Model:</th>              <td>     6</td>      <th>                     </th>      <td> </td>     \n",
       "</tr>\n",
       "<tr>\n",
       "  <th>Covariance Type:</th>      <td>nonrobust</td>    <th>                     </th>      <td> </td>     \n",
       "</tr>\n",
       "</table>\n",
       "<table class=\"simpletable\">\n",
       "<tr>\n",
       "       <td></td>         <th>coef</th>     <th>std err</th>      <th>t</th>      <th>P>|t|</th>  <th>[0.025</th>    <th>0.975]</th>  \n",
       "</tr>\n",
       "<tr>\n",
       "  <th>BATHRM</th>     <td> 7.694e+04</td> <td> 2366.592</td> <td>   32.512</td> <td> 0.000</td> <td> 7.23e+04</td> <td> 8.16e+04</td>\n",
       "</tr>\n",
       "<tr>\n",
       "  <th>FIREPLACES</th> <td> 6.732e+04</td> <td> 2368.731</td> <td>   28.420</td> <td> 0.000</td> <td> 6.27e+04</td> <td>  7.2e+04</td>\n",
       "</tr>\n",
       "<tr>\n",
       "  <th>KITCHENS</th>   <td>-6237.0563</td> <td> 4267.598</td> <td>   -1.461</td> <td> 0.144</td> <td>-1.46e+04</td> <td> 2127.979</td>\n",
       "</tr>\n",
       "<tr>\n",
       "  <th>AYB</th>        <td>-3358.3855</td> <td>   84.754</td> <td>  -39.625</td> <td> 0.000</td> <td>-3524.514</td> <td>-3192.257</td>\n",
       "</tr>\n",
       "<tr>\n",
       "  <th>EYB</th>        <td> 3748.6400</td> <td>  112.534</td> <td>   33.311</td> <td> 0.000</td> <td> 3528.059</td> <td> 3969.221</td>\n",
       "</tr>\n",
       "<tr>\n",
       "  <th>YR_RMDL</th>    <td> -259.2914</td> <td>   79.485</td> <td>   -3.262</td> <td> 0.001</td> <td> -415.093</td> <td> -103.490</td>\n",
       "</tr>\n",
       "</table>\n",
       "<table class=\"simpletable\">\n",
       "<tr>\n",
       "  <th>Omnibus:</th>       <td>141.529</td> <th>  Durbin-Watson:     </th> <td>   1.502</td>\n",
       "</tr>\n",
       "<tr>\n",
       "  <th>Prob(Omnibus):</th> <td> 0.000</td>  <th>  Jarque-Bera (JB):  </th> <td> 134.290</td>\n",
       "</tr>\n",
       "<tr>\n",
       "  <th>Skew:</th>          <td> 0.205</td>  <th>  Prob(JB):          </th> <td>6.91e-30</td>\n",
       "</tr>\n",
       "<tr>\n",
       "  <th>Kurtosis:</th>      <td> 2.767</td>  <th>  Cond. No.          </th> <td>8.95e+03</td>\n",
       "</tr>\n",
       "</table><br/><br/>Warnings:<br/>[1] Standard Errors assume that the covariance matrix of the errors is correctly specified.<br/>[2] The condition number is large, 8.95e+03. This might indicate that there are<br/>strong multicollinearity or other numerical problems."
      ],
      "text/plain": [
       "<class 'statsmodels.iolib.summary.Summary'>\n",
       "\"\"\"\n",
       "                            OLS Regression Results                            \n",
       "==============================================================================\n",
       "Dep. Variable:                  PRICE   R-squared:                       0.905\n",
       "Model:                            OLS   Adj. R-squared:                  0.905\n",
       "Method:                 Least Squares   F-statistic:                 2.293e+04\n",
       "Date:                Sat, 13 Jul 2019   Prob (F-statistic):               0.00\n",
       "Time:                        11:58:25   Log-Likelihood:            -1.9777e+05\n",
       "No. Observations:               14527   AIC:                         3.956e+05\n",
       "Df Residuals:                   14521   BIC:                         3.956e+05\n",
       "Df Model:                           6                                         \n",
       "Covariance Type:            nonrobust                                         \n",
       "==============================================================================\n",
       "                 coef    std err          t      P>|t|      [0.025      0.975]\n",
       "------------------------------------------------------------------------------\n",
       "BATHRM      7.694e+04   2366.592     32.512      0.000    7.23e+04    8.16e+04\n",
       "FIREPLACES  6.732e+04   2368.731     28.420      0.000    6.27e+04     7.2e+04\n",
       "KITCHENS   -6237.0563   4267.598     -1.461      0.144   -1.46e+04    2127.979\n",
       "AYB        -3358.3855     84.754    -39.625      0.000   -3524.514   -3192.257\n",
       "EYB         3748.6400    112.534     33.311      0.000    3528.059    3969.221\n",
       "YR_RMDL     -259.2914     79.485     -3.262      0.001    -415.093    -103.490\n",
       "==============================================================================\n",
       "Omnibus:                      141.529   Durbin-Watson:                   1.502\n",
       "Prob(Omnibus):                  0.000   Jarque-Bera (JB):              134.290\n",
       "Skew:                           0.205   Prob(JB):                     6.91e-30\n",
       "Kurtosis:                       2.767   Cond. No.                     8.95e+03\n",
       "==============================================================================\n",
       "\n",
       "Warnings:\n",
       "[1] Standard Errors assume that the covariance matrix of the errors is correctly specified.\n",
       "[2] The condition number is large, 8.95e+03. This might indicate that there are\n",
       "strong multicollinearity or other numerical problems.\n",
       "\"\"\""
      ]
     },
     "execution_count": 41,
     "metadata": {},
     "output_type": "execute_result"
    }
   ],
   "source": [
    "result_6 = smf.ols('PRICE ~ BATHRM + FIREPLACES + KITCHENS + AYB + EYB + YR_RMDL -1',\n",
    "                   data=DC_real_Count_price).fit()\n",
    "result_6.summary()"
   ]
  },
  {
   "cell_type": "code",
   "execution_count": 42,
   "metadata": {},
   "outputs": [
    {
     "data": {
      "text/html": [
       "<table class=\"simpletable\">\n",
       "<caption>OLS Regression Results</caption>\n",
       "<tr>\n",
       "  <th>Dep. Variable:</th>          <td>PRICE</td>      <th>  R-squared:         </th>  <td>   0.906</td>  \n",
       "</tr>\n",
       "<tr>\n",
       "  <th>Model:</th>                   <td>OLS</td>       <th>  Adj. R-squared:    </th>  <td>   0.905</td>  \n",
       "</tr>\n",
       "<tr>\n",
       "  <th>Method:</th>             <td>Least Squares</td>  <th>  F-statistic:       </th>  <td>2.320e+04</td> \n",
       "</tr>\n",
       "<tr>\n",
       "  <th>Date:</th>             <td>Sat, 13 Jul 2019</td> <th>  Prob (F-statistic):</th>   <td>  0.00</td>   \n",
       "</tr>\n",
       "<tr>\n",
       "  <th>Time:</th>                 <td>11:58:25</td>     <th>  Log-Likelihood:    </th> <td>-1.9770e+05</td>\n",
       "</tr>\n",
       "<tr>\n",
       "  <th>No. Observations:</th>      <td> 14527</td>      <th>  AIC:               </th>  <td>3.954e+05</td> \n",
       "</tr>\n",
       "<tr>\n",
       "  <th>Df Residuals:</th>          <td> 14521</td>      <th>  BIC:               </th>  <td>3.955e+05</td> \n",
       "</tr>\n",
       "<tr>\n",
       "  <th>Df Model:</th>              <td>     6</td>      <th>                     </th>      <td> </td>     \n",
       "</tr>\n",
       "<tr>\n",
       "  <th>Covariance Type:</th>      <td>nonrobust</td>    <th>                     </th>      <td> </td>     \n",
       "</tr>\n",
       "</table>\n",
       "<table class=\"simpletable\">\n",
       "<tr>\n",
       "       <td></td>         <th>coef</th>     <th>std err</th>      <th>t</th>      <th>P>|t|</th>  <th>[0.025</th>    <th>0.975]</th>  \n",
       "</tr>\n",
       "<tr>\n",
       "  <th>BATHRM</th>     <td> 6.942e+04</td> <td> 2356.382</td> <td>   29.460</td> <td> 0.000</td> <td> 6.48e+04</td> <td>  7.4e+04</td>\n",
       "</tr>\n",
       "<tr>\n",
       "  <th>FIREPLACES</th> <td> 5.974e+04</td> <td> 2433.319</td> <td>   24.552</td> <td> 0.000</td> <td>  5.5e+04</td> <td> 6.45e+04</td>\n",
       "</tr>\n",
       "<tr>\n",
       "  <th>AYB</th>        <td>-3255.9562</td> <td>   83.594</td> <td>  -38.949</td> <td> 0.000</td> <td>-3419.812</td> <td>-3092.101</td>\n",
       "</tr>\n",
       "<tr>\n",
       "  <th>EYB</th>        <td> 3553.9886</td> <td>  111.608</td> <td>   31.843</td> <td> 0.000</td> <td> 3335.222</td> <td> 3772.755</td>\n",
       "</tr>\n",
       "<tr>\n",
       "  <th>GBA</th>        <td>   93.8282</td> <td>    7.568</td> <td>   12.399</td> <td> 0.000</td> <td>   78.995</td> <td>  108.661</td>\n",
       "</tr>\n",
       "<tr>\n",
       "  <th>YR_RMDL</th>    <td> -229.2949</td> <td>   79.086</td> <td>   -2.899</td> <td> 0.004</td> <td> -384.313</td> <td>  -74.277</td>\n",
       "</tr>\n",
       "</table>\n",
       "<table class=\"simpletable\">\n",
       "<tr>\n",
       "  <th>Omnibus:</th>       <td>110.495</td> <th>  Durbin-Watson:     </th> <td>   1.515</td>\n",
       "</tr>\n",
       "<tr>\n",
       "  <th>Prob(Omnibus):</th> <td> 0.000</td>  <th>  Jarque-Bera (JB):  </th> <td> 100.430</td>\n",
       "</tr>\n",
       "<tr>\n",
       "  <th>Skew:</th>          <td> 0.163</td>  <th>  Prob(JB):          </th> <td>1.56e-22</td>\n",
       "</tr>\n",
       "<tr>\n",
       "  <th>Kurtosis:</th>      <td> 2.755</td>  <th>  Cond. No.          </th> <td>5.58e+03</td>\n",
       "</tr>\n",
       "</table><br/><br/>Warnings:<br/>[1] Standard Errors assume that the covariance matrix of the errors is correctly specified.<br/>[2] The condition number is large, 5.58e+03. This might indicate that there are<br/>strong multicollinearity or other numerical problems."
      ],
      "text/plain": [
       "<class 'statsmodels.iolib.summary.Summary'>\n",
       "\"\"\"\n",
       "                            OLS Regression Results                            \n",
       "==============================================================================\n",
       "Dep. Variable:                  PRICE   R-squared:                       0.906\n",
       "Model:                            OLS   Adj. R-squared:                  0.905\n",
       "Method:                 Least Squares   F-statistic:                 2.320e+04\n",
       "Date:                Sat, 13 Jul 2019   Prob (F-statistic):               0.00\n",
       "Time:                        11:58:25   Log-Likelihood:            -1.9770e+05\n",
       "No. Observations:               14527   AIC:                         3.954e+05\n",
       "Df Residuals:                   14521   BIC:                         3.955e+05\n",
       "Df Model:                           6                                         \n",
       "Covariance Type:            nonrobust                                         \n",
       "==============================================================================\n",
       "                 coef    std err          t      P>|t|      [0.025      0.975]\n",
       "------------------------------------------------------------------------------\n",
       "BATHRM      6.942e+04   2356.382     29.460      0.000    6.48e+04     7.4e+04\n",
       "FIREPLACES  5.974e+04   2433.319     24.552      0.000     5.5e+04    6.45e+04\n",
       "AYB        -3255.9562     83.594    -38.949      0.000   -3419.812   -3092.101\n",
       "EYB         3553.9886    111.608     31.843      0.000    3335.222    3772.755\n",
       "GBA           93.8282      7.568     12.399      0.000      78.995     108.661\n",
       "YR_RMDL     -229.2949     79.086     -2.899      0.004    -384.313     -74.277\n",
       "==============================================================================\n",
       "Omnibus:                      110.495   Durbin-Watson:                   1.515\n",
       "Prob(Omnibus):                  0.000   Jarque-Bera (JB):              100.430\n",
       "Skew:                           0.163   Prob(JB):                     1.56e-22\n",
       "Kurtosis:                       2.755   Cond. No.                     5.58e+03\n",
       "==============================================================================\n",
       "\n",
       "Warnings:\n",
       "[1] Standard Errors assume that the covariance matrix of the errors is correctly specified.\n",
       "[2] The condition number is large, 5.58e+03. This might indicate that there are\n",
       "strong multicollinearity or other numerical problems.\n",
       "\"\"\""
      ]
     },
     "execution_count": 42,
     "metadata": {},
     "output_type": "execute_result"
    }
   ],
   "source": [
    "result_7 = smf.ols('PRICE ~ BATHRM + FIREPLACES + AYB + EYB + GBA + YR_RMDL -1',\n",
    "                   data=DC_real_Count_price).fit()\n",
    "result_7.summary()"
   ]
  },
  {
   "cell_type": "markdown",
   "metadata": {},
   "source": [
    "## Analysis\n",
    "Ideally an investor would be interested in residential houses (not condos) in the NW quadrant. Since \"actual year built\" has a negative coefficient and \"last year an improvement was built\" has a positive coefficient based on this model, an older house with more recent construction would sell for a higher price. Additionally, a bigger house based on the gross building area in square feet should also sell for a higher price."
   ]
  },
  {
   "cell_type": "code",
   "execution_count": null,
   "metadata": {},
   "outputs": [],
   "source": []
  }
 ],
 "metadata": {
  "kernelspec": {
   "display_name": "Python 3",
   "language": "python",
   "name": "python3"
  },
  "language_info": {
   "codemirror_mode": {
    "name": "ipython",
    "version": 3
   },
   "file_extension": ".py",
   "mimetype": "text/x-python",
   "name": "python",
   "nbconvert_exporter": "python",
   "pygments_lexer": "ipython3",
   "version": "3.7.3"
  }
 },
 "nbformat": 4,
 "nbformat_minor": 2
}
